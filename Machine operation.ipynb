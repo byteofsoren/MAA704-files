{
 "cells": [
  {
   "cell_type": "markdown",
   "metadata": {},
   "source": [
    "# Machine operation\n",
    "The machine operation withan supervisor can be explained as the folowing."
   ]
  },
  {
   "cell_type": "code",
   "execution_count": 2,
   "metadata": {
    "collapsed": true
   },
   "outputs": [],
   "source": [
    "import numpy as np"
   ]
  },
  {
   "cell_type": "code",
   "execution_count": 4,
   "metadata": {},
   "outputs": [
    {
     "data": {
      "text/plain": [
       "matrix([[ 0.  ,  0.98,  0.02],\n",
       "        [ 0.  ,  0.95,  0.05],\n",
       "        [ 0.  ,  0.4 ,  0.6 ]])"
      ]
     },
     "execution_count": 4,
     "metadata": {},
     "output_type": "execute_result"
    }
   ],
   "source": [
    "Supervised = np.matrix([[0, 0.98, 0.02],[0, 0.95, 0.05],[0, 0.40, 0.60]])\n",
    "Supervised"
   ]
  },
  {
   "cell_type": "code",
   "execution_count": 6,
   "metadata": {},
   "outputs": [
    {
     "data": {
      "text/plain": [
       "matrix([[ 0.9,  0.1],\n",
       "        [ 0.4,  0.6]])"
      ]
     },
     "execution_count": 6,
     "metadata": {},
     "output_type": "execute_result"
    }
   ],
   "source": [
    "UnSupervised = np.matrix([[0.9, 0.1],[0.4, 0.6]])\n",
    "UnSupervised "
   ]
  },
  {
   "cell_type": "markdown",
   "metadata": {},
   "source": [
    "Starting position in this example can be modeld by a row matrix like\n",
    "[Alert, Tierd, Repair]\n",
    "Thus as we start at Alert we get:"
   ]
  },
  {
   "cell_type": "code",
   "execution_count": 8,
   "metadata": {},
   "outputs": [
    {
     "data": {
      "text/plain": [
       "matrix([[1, 0, 0]])"
      ]
     },
     "execution_count": 8,
     "metadata": {},
     "output_type": "execute_result"
    }
   ],
   "source": [
    "StartS = np.matrix([1,0,0])\n",
    "StartS"
   ]
  },
  {
   "cell_type": "markdown",
   "metadata": {},
   "source": [
    "The matrix for the un supervised machine [Running, Repair]"
   ]
  },
  {
   "cell_type": "code",
   "execution_count": 10,
   "metadata": {},
   "outputs": [
    {
     "data": {
      "text/plain": [
       "matrix([[1, 0]])"
      ]
     },
     "execution_count": 10,
     "metadata": {},
     "output_type": "execute_result"
    }
   ],
   "source": [
    "StartU = np.matrix([1, 0])\n",
    "StartU"
   ]
  },
  {
   "cell_type": "markdown",
   "metadata": {},
   "source": [
    "Then because for example a 8 hour shift can be calculated by"
   ]
  },
  {
   "cell_type": "code",
   "execution_count": 44,
   "metadata": {},
   "outputs": [
    {
     "name": "stdout",
     "output_type": "stream",
     "text": [
      "ShiftSupervised=[[ 0.        0.890276  0.109724]] ShiftUnSupervised=[[ 0.80078125  0.19921875]]\n",
      "i.e\n",
      "When supervised the risk of that the machine is under repari is 10.97%\n",
      "While un superviced the risk of that the machine is under repari is 19.92%\n"
     ]
    }
   ],
   "source": [
    "ShitSupervised = StartS * Supervised**8\n",
    "ShiftUnSupervised = StartU * UnSupervised**8\n",
    "temp1 = ShitSupervised.tolist()\n",
    "temp2 = ShiftUnSupervised.tolist()\n",
    "print(\"ShiftSupervised=\" + str(ShitSupervised) + \" ShiftUnSupervised=\" + str(ShiftUnSupervised))\n",
    "print(\"i.e\")\n",
    "print(\"When supervised the risk of that the machine is under repari is \" + str(round(temp1[0][2] * 100, 2)) + \"%\")\n",
    "print(\"While un superviced the risk of that the machine is under repari is \"+ str(round(temp2[0][1] * 100,2)) + \"%\")"
   ]
  }
 ],
 "metadata": {
  "kernelspec": {
   "display_name": "Python 3",
   "language": "python",
   "name": "python3"
  },
  "language_info": {
   "codemirror_mode": {
    "name": "ipython",
    "version": 3
   },
   "file_extension": ".py",
   "mimetype": "text/x-python",
   "name": "python",
   "nbconvert_exporter": "python",
   "pygments_lexer": "ipython3",
   "version": "3.6.3"
  }
 },
 "nbformat": 4,
 "nbformat_minor": 2
}
