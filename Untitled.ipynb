{
 "cells": [
  {
   "cell_type": "markdown",
   "metadata": {},
   "source": [
    "# Matrix mulitplication "
   ]
  },
  {
   "cell_type": "code",
   "execution_count": 1,
   "metadata": {
    "collapsed": true
   },
   "outputs": [],
   "source": [
    "import numpy as np"
   ]
  },
  {
   "cell_type": "code",
   "execution_count": 2,
   "metadata": {},
   "outputs": [
    {
     "data": {
      "text/plain": [
       "matrix([[1, 2, 3],\n",
       "        [4, 5, 6],\n",
       "        [7, 8, 9]])"
      ]
     },
     "execution_count": 2,
     "metadata": {},
     "output_type": "execute_result"
    }
   ],
   "source": [
    "A = np.matrix([[1,2,3],[4,5,6],[7,8,9]])\n",
    "A"
   ]
  },
  {
   "cell_type": "code",
   "execution_count": 3,
   "metadata": {
    "collapsed": true
   },
   "outputs": [],
   "source": [
    "def bmatrix(a):\n",
    "    \"\"\"Returns a LaTeX bmatrix\n",
    "\n",
    "    :a: numpy array\n",
    "    :returns: LaTeX bmatrix as a string\n",
    "    \"\"\"\n",
    "    if len(a.shape) > 2:\n",
    "        raise ValueError('bmatrix can at most display two dimensions')\n",
    "    lines = str(a).replace('[', '').replace(']', '').splitlines()\n",
    "    rv = [r'\\begin{bmatrix}']\n",
    "    rv += ['  ' + ' & '.join(l.split()) + r'\\\\ ' for l in lines]\n",
    "    rv +=  [r'\\end{bmatrix}']\n",
    "    return ''.join(rv)"
   ]
  },
  {
   "cell_type": "code",
   "execution_count": 4,
   "metadata": {},
   "outputs": [
    {
     "data": {
      "text/plain": [
       "matrix([[1, 1, 1, 1],\n",
       "        [0, 0, 2, 2],\n",
       "        [3, 0, 0, 1],\n",
       "        [3, 0, 1, 0]])"
      ]
     },
     "execution_count": 4,
     "metadata": {},
     "output_type": "execute_result"
    }
   ],
   "source": [
    "P = np.matrix([[1,1,1,1],[0,0,2,2],[3,0,0,1],[3,0,1,0]])\n",
    "\n",
    "#np.linalg.eig(P)\n",
    "#P\n",
    "X1 = np.matrix([-1, 1, 3, 2])\n",
    "X2 = np.matrix([ 4, 1, 2, 2])\n",
    "X3 = np.matrix([ 0, 1, 3 ,2])\n",
    "X4 = np.matrix([-2, -0.5, -1, -1])\n",
    "\n",
    "Res1 = np.transpose(P) * np.transpose(X1)\n",
    "Res2 = np.transpose(P) * np.transpose(X2)\n",
    "Res3 = np.transpose(P) * np.transpose(X3)\n",
    "Res4 = np.transpose(P) * np.transpose(X4)\n",
    "P"
   ]
  },
  {
   "cell_type": "code",
   "execution_count": 5,
   "metadata": {},
   "outputs": [
    {
     "data": {
      "text/plain": [
       "'\\\\begin{bmatrix}  14\\\\\\\\   -1\\\\\\\\   3\\\\\\\\   4\\\\\\\\ \\\\end{bmatrix}'"
      ]
     },
     "execution_count": 5,
     "metadata": {},
     "output_type": "execute_result"
    }
   ],
   "source": [
    "bmatrix(Res1)\n",
    "#Res1.shape"
   ]
  },
  {
   "cell_type": "code",
   "execution_count": 6,
   "metadata": {},
   "outputs": [
    {
     "data": {
      "text/plain": [
       "'\\\\begin{bmatrix}  16\\\\\\\\   4\\\\\\\\   8\\\\\\\\   8\\\\\\\\ \\\\end{bmatrix}'"
      ]
     },
     "execution_count": 6,
     "metadata": {},
     "output_type": "execute_result"
    }
   ],
   "source": [
    "bmatrix(Res2)"
   ]
  },
  {
   "cell_type": "code",
   "execution_count": 7,
   "metadata": {},
   "outputs": [
    {
     "data": {
      "text/plain": [
       "'\\\\begin{bmatrix}  15\\\\\\\\   0\\\\\\\\   4\\\\\\\\   5\\\\\\\\ \\\\end{bmatrix}'"
      ]
     },
     "execution_count": 7,
     "metadata": {},
     "output_type": "execute_result"
    }
   ],
   "source": [
    "bmatrix(Res3)"
   ]
  },
  {
   "cell_type": "code",
   "execution_count": 8,
   "metadata": {},
   "outputs": [
    {
     "data": {
      "text/plain": [
       "'\\\\begin{bmatrix}  -8.\\\\\\\\   -2.\\\\\\\\   -4.\\\\\\\\   -4.\\\\\\\\ \\\\end{bmatrix}'"
      ]
     },
     "execution_count": 8,
     "metadata": {},
     "output_type": "execute_result"
    }
   ],
   "source": [
    "bmatrix(Res4)"
   ]
  },
  {
   "cell_type": "code",
   "execution_count": 9,
   "metadata": {},
   "outputs": [
    {
     "name": "stdout",
     "output_type": "stream",
     "text": [
      "\\lambda x_1 = \\begin{bmatrix}  -4\\\\   4\\\\   12\\\\   8\\\\ \\end{bmatrix}&\n",
      "\\lambda x_2 = \\begin{bmatrix}  16\\\\   4\\\\   8\\\\   8\\\\ \\end{bmatrix}&\n",
      "\\lambda x_3 = \\begin{bmatrix}  0\\\\   4\\\\   12\\\\   8\\\\ \\end{bmatrix}&\n",
      "\\lambda x_4 = \\begin{bmatrix}  -8.\\\\   -2.\\\\   -4.\\\\   -4.\\\\ \\end{bmatrix}\n"
     ]
    }
   ],
   "source": [
    "mystr = \"\\lambda x_1 = \" + bmatrix(4*np.transpose(X1)) + \"&\\n\"\n",
    "mystr += \"\\lambda x_2 = \" + bmatrix(4*np.transpose(X2)) + \"&\\n\"\n",
    "mystr += \"\\lambda x_3 = \" + bmatrix(4*np.transpose(X3)) + \"&\\n\"\n",
    "mystr += \"\\lambda x_4 = \" + bmatrix(4*np.transpose(X4))\n",
    "print(mystr)"
   ]
  },
  {
   "cell_type": "code",
   "execution_count": 10,
   "metadata": {},
   "outputs": [
    {
     "name": "stdout",
     "output_type": "stream",
     "text": [
      "hello world\n"
     ]
    }
   ],
   "source": [
    "print(\"hello\" + \" world\")"
   ]
  },
  {
   "cell_type": "code",
   "execution_count": 11,
   "metadata": {},
   "outputs": [
    {
     "data": {
      "text/plain": [
       "array([[ 1.,  0.,  0.],\n",
       "       [ 3.,  2.,  0.],\n",
       "       [-2., -1.,  1.]])"
      ]
     },
     "execution_count": 11,
     "metadata": {},
     "output_type": "execute_result"
    }
   ],
   "source": [
    "# Testing cholsky factorization\n",
    "#P = np.matrix([[0.3, 0.7, 0],[0.1, 0.4, 0.5], [0, 0.2, 0.8]])\n",
    "A = np.array([ [1,3,-2],\n",
    "               [3,13,-8],\n",
    "               [-2,-8,6]])\n",
    "#A\n",
    "np.linalg.cholesky(A)"
   ]
  },
  {
   "cell_type": "code",
   "execution_count": 12,
   "metadata": {},
   "outputs": [
    {
     "data": {
      "text/plain": [
       "array([[ 1, -2],\n",
       "       [ 2,  5]])"
      ]
     },
     "execution_count": 12,
     "metadata": {},
     "output_type": "execute_result"
    }
   ],
   "source": [
    "A = np.array([[1,-2],[2,5]])\n",
    "A\n",
    "#np.linalg.cholesky(A)"
   ]
  },
  {
   "cell_type": "code",
   "execution_count": 15,
   "metadata": {},
   "outputs": [
    {
     "name": "stdout",
     "output_type": "stream",
     "text": [
      "[[ 0.70710678  0.70710678  0.        ]\n",
      " [ 0.40824829 -0.40824829  0.81649658]\n",
      " [-0.57735027  0.57735027  0.57735027]]\n",
      "or in latex\n",
      "\\begin{bmatrix}  0.70710678 & 0.70710678 & 0.\\\\   0.40824829 & -0.40824829 & 0.81649658\\\\   -0.57735027 & 0.57735027 & 0.57735027\\\\ \\end{bmatrix}\n"
     ]
    }
   ],
   "source": [
    "def gram_schmidt(vectors):\n",
    "    basis = []\n",
    "    for v in vectors:\n",
    "        w = v - np.sum( np.dot(v,b)*b  for b in basis )\n",
    "        if (w > 1e-10).any():  \n",
    "            basis.append(w/np.linalg.norm(w))\n",
    "    return np.array(basis)\n",
    "\n",
    "#Test data\n",
    "test = np.array([[3.0, 1.0], [2.0, 2.0]])\n",
    "test2 = np.array([[1.0, 1.0, 0.0], [1.0, 3.0, 1.0], [2.0, -1.0, 1.0]])\n",
    "assigment = np.transpose(np.array([[1,1,0,0],[1,0,1,0],[0,1,1,1]]))\n",
    "#assigment\n",
    "#print(np.array(gs(test)))\n",
    "#print(np.array(gs(test2)))\n",
    "#print(gram_schmidt(test2))\n",
    "print(gram_schmidt(assigment))\n",
    "print(\"or in latex\")\n",
    "print(bmatrix(gram_schmidt(assigment)))\n"
   ]
  },
  {
   "cell_type": "code",
   "execution_count": 25,
   "metadata": {
    "collapsed": true
   },
   "outputs": [],
   "source": [
    "xline= [5,1,1,1]\n",
    "yline= [2,3,1,2]\n",
    "import matplotlib.pyplot as plt\n",
    "import matplotlib.lines as Line2D"
   ]
  },
  {
   "cell_type": "code",
   "execution_count": 1,
   "metadata": {},
   "outputs": [
    {
     "ename": "NameError",
     "evalue": "name 'plt' is not defined",
     "output_type": "error",
     "traceback": [
      "\u001b[0;31m---------------------------------------------------------------------------\u001b[0m",
      "\u001b[0;31mNameError\u001b[0m                                 Traceback (most recent call last)",
      "\u001b[0;32m<ipython-input-1-7f1596b97764>\u001b[0m in \u001b[0;36m<module>\u001b[0;34m()\u001b[0m\n\u001b[1;32m      1\u001b[0m \u001b[0mget_ipython\u001b[0m\u001b[0;34m(\u001b[0m\u001b[0;34m)\u001b[0m\u001b[0;34m.\u001b[0m\u001b[0mrun_line_magic\u001b[0m\u001b[0;34m(\u001b[0m\u001b[0;34m'matplotlib'\u001b[0m\u001b[0;34m,\u001b[0m \u001b[0;34m'inline'\u001b[0m\u001b[0;34m)\u001b[0m\u001b[0;34m\u001b[0m\u001b[0m\n\u001b[0;32m----> 2\u001b[0;31m \u001b[0mfig\u001b[0m \u001b[0;34m=\u001b[0m \u001b[0mplt\u001b[0m\u001b[0;34m.\u001b[0m\u001b[0mfigure\u001b[0m\u001b[0;34m(\u001b[0m\u001b[0;34m)\u001b[0m\u001b[0;34m\u001b[0m\u001b[0m\n\u001b[0m\u001b[1;32m      3\u001b[0m \u001b[0mplt\u001b[0m\u001b[0;34m.\u001b[0m\u001b[0mplot\u001b[0m\u001b[0;34m(\u001b[0m\u001b[0mxline\u001b[0m\u001b[0;34m,\u001b[0m \u001b[0myline\u001b[0m\u001b[0;34m)\u001b[0m\u001b[0;34m\u001b[0m\u001b[0m\n",
      "\u001b[0;31mNameError\u001b[0m: name 'plt' is not defined"
     ]
    }
   ],
   "source": [
    "%matplotlib inline\n",
    "fig = plt.figure()\n",
    "plt.plot(xline, yline)"
   ]
  },
  {
   "cell_type": "code",
   "execution_count": null,
   "metadata": {
    "collapsed": true
   },
   "outputs": [],
   "source": [
    "set(\"GEEP.py\").is"
   ]
  }
 ],
 "metadata": {
  "kernelspec": {
   "display_name": "Python 3",
   "language": "python",
   "name": "python3"
  },
  "language_info": {
   "codemirror_mode": {
    "name": "ipython",
    "version": 3
   },
   "file_extension": ".py",
   "mimetype": "text/x-python",
   "name": "python",
   "nbconvert_exporter": "python",
   "pygments_lexer": "ipython3",
   "version": "3.6.3"
  }
 },
 "nbformat": 4,
 "nbformat_minor": 2
}
