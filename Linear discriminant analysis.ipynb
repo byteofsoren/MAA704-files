{
 "cells": [
  {
   "cell_type": "markdown",
   "metadata": {},
   "source": [
    "# Linear discriminant analysis"
   ]
  },
  {
   "cell_type": "code",
   "execution_count": 1,
   "metadata": {},
   "outputs": [
    {
     "name": "stdout",
     "output_type": "stream",
     "text": [
      "c1=\n",
      "Matrix([[1, 0], [1, 1], [2, 2], [2, 3]])\n",
      "c2=\n",
      "Matrix([[3, 0], [3, 1], [2, 0]])\n"
     ]
    }
   ],
   "source": [
    "%matplotlib inline\n",
    "# first som imports\n",
    "import numpy as np\n",
    "import matplotlib.pyplot as plt\n",
    "from sympy import *\n",
    "\n",
    "#data\n",
    "c1 = Matrix([[1,0],\n",
    "             [1,1],\n",
    "             [2,2],\n",
    "             [2,3]])\n",
    "c2 = Matrix([[3,0],\n",
    "             [3,1],\n",
    "             [2,0]])\n",
    "print(\"c1=\\n\"+ str(c1) + \"\\nc2=\\n\" + str(c2))"
   ]
  },
  {
   "cell_type": "code",
   "execution_count": 2,
   "metadata": {},
   "outputs": [
    {
     "name": "stdout",
     "output_type": "stream",
     "text": [
      "Tranposed version of c1 and c2\n",
      "Matrix([[1, 1, 2, 2], [0, 1, 2, 3]])\n",
      "Matrix([[3, 3, 2], [0, 1, 0]])\n"
     ]
    },
    {
     "data": {
      "image/png": "[encoded data removed]",
      "text/plain": [
       "<matplotlib.figure.Figure at 0x7f3111a47f60>"
      ]
     },
     "metadata": {},
     "output_type": "display_data"
    }
   ],
   "source": [
    "# plotting the data\n",
    "c1t = transpose(c1)\n",
    "c2t = transpose(c2)\n",
    "print(\"Tranposed version of c1 and c2\")\n",
    "print(str(c1t) + \"\\n\" + str(c2t))\n",
    "plt.scatter(c1t.tolist()[0], c1t.tolist()[1])\n",
    "plt.scatter(c2t.tolist()[0], c2t.tolist()[1])\n",
    "xax = np.arange(0,4,0.01)\n",
    "#yl = -xax + 3.0\n",
    "#plt.plot(xax,yl)  # <= Testing the below tesis.\n",
    "plt.grid()"
   ]
  },
  {
   "cell_type": "markdown",
   "metadata": {},
   "source": [
    "It feals like we can draw a line from (0,3) to (3.0) and project the data on that. That perhaps whuld be a good reduction."
   ]
  },
  {
   "cell_type": "markdown",
   "metadata": {},
   "source": [
    "There was somthing about calculating the mean of each of the cases. That was used to move the data down to origo\n",
    "$$ \n",
    "mean(c_{1xy}) = [\\frac{\\sum{xi}}{n}, \\frac{\\sum{yi}}{n}]\n",
    "$$"
   ]
  },
  {
   "cell_type": "code",
   "execution_count": 7,
   "metadata": {},
   "outputs": [
    {
     "name": "stdout",
     "output_type": "stream",
     "text": [
      "c1length=3 c2length=2\n",
      "c1meanx=1 c1meany=3/4\n",
      "c2meany=2/3 c2meany=1/3\n",
      "The sum of c1sumx=1 c1sumy=1\n",
      "The sum of c2sumx=2/3 c2sumy=1/3\n",
      "Mean c1=\n",
      "Matrix([[1], [3/4]]) \n",
      "c2=\n",
      "Matrix([[2/3], [1/3]])\n"
     ]
    }
   ],
   "source": [
    "c1meanx = 0\n",
    "c1meany = 0\n",
    "c2meanx = 0 \n",
    "c2meany = 0 \n",
    "c1length = len(c1t.tolist()[0])- 1\n",
    "c2length = len(c2t.tolist()[0]) -1 \n",
    "print(\"c1length=\" + str(c1length) + \" c2length=\" + str(c2length))\n",
    "for i in np.arange(0,c1length):\n",
    "    # Add all elements\n",
    "    c1meanx += c1t.tolist()[0][i]  \n",
    "    c1meany += c1t.tolist()[1][i] \n",
    "for i in np.arange(0, c2length):\n",
    "    c2meanx += c1t.tolist()[0][i]  \n",
    "    c2meany += c1t.tolist()[1][i]\n",
    "\n",
    "c1meanx = c1meanx / (c1length + 1)\n",
    "c1meany = c1meany / (c1length + 1)\n",
    "c2meanx = c2meanx / (c2length + 1)\n",
    "c2meany = c2meany / (c2length + 1)\n",
    "print(\"c1meanx=\" + str(c1meanx)+ \" c1meany=\" + str(c1meany))\n",
    "print(\"c2meany=\" + str(c2meanx) + \" c2meany=\" + str(cc2meany))\n",
    "print(\"The sum of c1sumx=\" + str(c1meanx) + \" c1sumy=\" + str(c1meanx))\n",
    "print(\"The sum of c2sumx=\" + str(c2meanx) + \" c2sumy=\" + str(c2meany))\n",
    "c1mean = Matrix([[c1meanx],[c1meany]])\n",
    "c2mean = Matrix([[c2meanx],[c2meany]])\n",
    "print(\"Mean c1=\\n\" + str(c1mean) + \" \\nc2=\\n\" + str(c2mean))"
   ]
  },
  {
   "cell_type": "markdown",
   "metadata": {},
   "source": [
    "# covarianse matrix for c1 and c2"
   ]
  },
  {
   "cell_type": "code",
   "execution_count": 4,
   "metadata": {},
   "outputs": [
    {
     "name": "stdout",
     "output_type": "stream",
     "text": [
      "Length=3\n",
      "mean=\n",
      "Matrix([[4/3], [1]])\n",
      "Length=2\n",
      "mean=\n",
      "Matrix([[3], [1/2]])\n",
      "covariance1=[[[0.0, 1.00000000000000], [-1.00000000000000, -1.00000000000000]], [[0.0, 1.00000000000000], [0.0, 0.0]], [[1.00000000000000, 2.00000000000000], [1.00000000000000, 1.00000000000000]]]\n",
      "covariance2=[[[0.0, 3.00000000000000], [-3.00000000000000, -1.00000000000000]], [[0.0, 3.00000000000000], [-2.00000000000000, 0.0]]]\n"
     ]
    },
    {
     "data": {
      "image/png": "[encoded data removed]",
      "text/plain": [
       "<matplotlib.figure.Figure at 0x7f311180f320>"
      ]
     },
     "metadata": {},
     "output_type": "display_data"
    }
   ],
   "source": [
    "# for c1 the x and y componend is on its same deriction so it thus cov can bec calculated by\n",
    "def cov(mat):\n",
    "    '''Rerturns a covariance matrix of the input matrix\n",
    "       mat is an 2d matrix with an left and rigth column'''\n",
    "    trans = transpose(mat)\n",
    "    #print(trans)\n",
    "    # mean calculation\n",
    "    sumx= 0\n",
    "    sumy= 0\n",
    "    length = len(trans.tolist()[0])-1\n",
    "    print(\"Length=\" + str(length))\n",
    "    for i in np.arange(0,length):\n",
    "        sumx += trans.tolist()[0][i]\n",
    "        sumy += trans.tolist()[1][i]\n",
    "    #print(\"sumx=\" + str(sumx) + \" sumy=\" + str(sumy))\n",
    "    mean = Matrix([[sumx/length],[sumy/length]])\n",
    "    print(\"mean=\\n\" + str(mean))\n",
    "    # cov(x,y)=(1/N)sum((x-xmean)(y-ymean))\n",
    "    x = np.array(mat.tolist()[0]).astype(np.float)\n",
    "    y = np.array(mat.tolist()[1]).astype(np.float)\n",
    "    #print(\"x=\" + str(x) + \" y=\" + str(y))\n",
    "    covmax=[]\n",
    "    for i in np.arange(0, length):\n",
    "        #print(\"transtolist=\" + str(trans.tolist()[0][i]) + \"x[0]=\" + str(x[0]))\n",
    "        etrans= np.array(trans).astype(np.float)\n",
    "        mx = etrans[0][i] - x\n",
    "        my = etrans[1][i] - y\n",
    "        #print(\"mx=\" + str(mx) + \" my=\" + str(my))\n",
    "        covmax.append([mx,my])\n",
    "    #print(\"The result is \"  + str(covmax))\n",
    "    return Matrix(covmax)\n",
    "        \n",
    "    \n",
    "    \n",
    "c1cov = cov(c1)\n",
    "c2cov = cov(c2)\n",
    "print(\"covariance1=\" + str(c1cov.tolist())+ \"\\ncovariance2=\" + str(c2cov.tolist()))\n",
    "c1covtrans = transpose(c1cov).tolist()\n",
    "c2covtrans = transpose(c2cov).tolist()\n",
    "plt.scatter(c1covtrans[0], c1covtrans[1])\n",
    "plt.scatter(c2covtrans[0], c2covtrans[1])\n",
    "plt.grid()"
   ]
  },
  {
   "cell_type": "markdown",
   "metadata": {
    "collapsed": true
   },
   "source": [
    "mean från fredde \n",
    "$$\n",
    "\\begin{matrix}\n",
    "0.333333333333333    & 0.666666666666667\\\\\n",
    "0.666666666666667    & 1.66666666666667\\\\ \\\\\n",
    "0.333333333333333    & 0.166666666666667\\\\\n",
    "0.166666666666667    & 0.333333333333333\\\\\n",
    "\\end{matrix}\n",
    "$$"
   ]
  },
  {
   "cell_type": "code",
   "execution_count": 8,
   "metadata": {},
   "outputs": [
    {
     "name": "stdout",
     "output_type": "stream",
     "text": [
      "Length=5\n",
      "mean=\n",
      "Matrix([[-4/5], [2/5]])\n"
     ]
    },
    {
     "data": {
      "text/plain": [
       "Matrix([\n",
       "[             [0.0, -6.00000000000000],  [5.00000000000000, 1.00000000000000]],\n",
       "[[1.00000000000000, -5.00000000000000],               [4.00000000000000, 0.0]],\n",
       "[[3.00000000000000, -3.00000000000000], [3.00000000000000, -1.00000000000000]],\n",
       "[[5.00000000000000, -1.00000000000000], [3.00000000000000, -1.00000000000000]],\n",
       "[ [7.00000000000000, 1.00000000000000], [2.00000000000000, -2.00000000000000]]])"
      ]
     },
     "execution_count": 8,
     "metadata": {},
     "output_type": "execute_result"
    }
   ],
   "source": [
    "# data from the PCA\n",
    "A = Matrix([[-4,2],\n",
    "                      [-3,1],\n",
    "                      [-1,0],\n",
    "                      [1,0] ,\n",
    "                      [3,-1],\n",
    "                      [4,-2]])\n",
    "covariance_of_A= Matrix([[10.4, -4.4],\n",
    "                        [-4.4, 2.0]])\n",
    "cov(A)"
   ]
  }
 ],
 "metadata": {
  "kernelspec": {
   "display_name": "Python 3",
   "language": "python",
   "name": "python3"
  },
  "language_info": {
   "codemirror_mode": {
    "name": "ipython",
    "version": 3
   },
   "file_extension": ".py",
   "mimetype": "text/x-python",
   "name": "python",
   "nbconvert_exporter": "python",
   "pygments_lexer": "ipython3",
   "version": "3.6.3"
  }
 },
 "nbformat": 4,
 "nbformat_minor": 2
}
