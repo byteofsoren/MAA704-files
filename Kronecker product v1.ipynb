{
 "cells": [
  {
   "cell_type": "markdown",
   "metadata": {},
   "source": [
    "# Kronecker product"
   ]
  },
  {
   "cell_type": "code",
   "execution_count": 1,
   "metadata": {
    "collapsed": true
   },
   "outputs": [],
   "source": [
    "%matplotlib inline\n",
    "# first som imports\n",
    "import numpy as np\n",
    "import matplotlib.pyplot as plt\n",
    "from sympy import *\n",
    "from matrixfunctions import *  #This is my own functions i created for 1.3 and 1.4"
   ]
  },
  {
   "cell_type": "code",
   "execution_count": 4,
   "metadata": {
    "scrolled": true
   },
   "outputs": [
    {
     "name": "stdout",
     "output_type": "stream",
     "text": [
      "\\left[\\begin{matrix}1.0 & 3.0\\\\0.0 & 3.0\\end{matrix}\\right]\n",
      "\\left[\\begin{matrix}0.0 & 4.0\\\\2.0 & 0.0\\end{matrix}\\right]\n"
     ]
    }
   ],
   "source": [
    "a = Matrix([[1,3],[0,3]])\n",
    "b = Matrix([[0,4],[2,0]])\n",
    "pMatrix(a,setlatex=1)\n",
    "pMatrix(b,setlatex=1)"
   ]
  },
  {
   "cell_type": "code",
   "execution_count": 7,
   "metadata": {},
   "outputs": [],
   "source": [
    "npa = np.matrix(a).astype(np.int32)\n",
    "npb = np.matrix(b).astype(np.int32)"
   ]
  },
  {
   "cell_type": "code",
   "execution_count": 10,
   "metadata": {},
   "outputs": [
    {
     "name": "stdout",
     "output_type": "stream",
     "text": [
      "\\left[\\begin{matrix}0.0 & 4.0 & 0.0 & 12.0\\\\2.0 & 0.0 & 6.0 & 0.0\\\\0.0 & 0.0 & 0.0 & 12.0\\\\0.0 & 0.0 & 6.0 & 0.0\\end{matrix}\\right]\n"
     ]
    }
   ],
   "source": [
    "akronb=np.kron(npa,npb)\n",
    "ab = Matrix(akronb)\n",
    "pMatrix(ab,setlatex=1, decimals=0)"
   ]
  },
  {
   "cell_type": "code",
   "execution_count": 17,
   "metadata": {},
   "outputs": [],
   "source": [
    "aegi=np.linalg.eig(npa)\n",
    "begi=np.linalg.eig(npb)\n",
    "akronbegi=np.linalg.eig(akronb)"
   ]
  },
  {
   "cell_type": "code",
   "execution_count": 21,
   "metadata": {},
   "outputs": [
    {
     "name": "stdout",
     "output_type": "stream",
     "text": [
      "[ 1.  3.]\n",
      "[ 2.82842712 -2.82842712]\n",
      "[ 2.82842712 -2.82842712  8.48528137 -8.48528137]\n"
     ]
    }
   ],
   "source": [
    "print(aegi[0])\n",
    "print(begi[0])\n",
    "print(akronbegi[0])"
   ]
  },
  {
   "cell_type": "code",
   "execution_count": 25,
   "metadata": {},
   "outputs": [
    {
     "name": "stdout",
     "output_type": "stream",
     "text": [
      "\\left[\\begin{matrix}1.0\\\\3.0\\end{matrix}\\right]\n",
      "\\left[\\begin{matrix}2.828\\\\-2.828\\end{matrix}\\right]\n",
      "\\left[\\begin{matrix}2.828\\\\-2.828\\\\8.485\\\\-8.485\\end{matrix}\\right]\n"
     ]
    }
   ],
   "source": [
    "pMatrix(Matrix(aegi[0]), setlatex=1)\n",
    "pMatrix(Matrix(begi[0]),setlatex=1)\n",
    "pMatrix(Matrix(akronbegi[0]),setlatex=1)"
   ]
  }
 ],
 "metadata": {
  "kernelspec": {
   "display_name": "Python 3",
   "language": "python",
   "name": "python3"
  },
  "language_info": {
   "codemirror_mode": {
    "name": "ipython",
    "version": 3
   },
   "file_extension": ".py",
   "mimetype": "text/x-python",
   "name": "python",
   "nbconvert_exporter": "python",
   "pygments_lexer": "ipython3",
   "version": "3.6.3"
  }
 },
 "nbformat": 4,
 "nbformat_minor": 2
}
