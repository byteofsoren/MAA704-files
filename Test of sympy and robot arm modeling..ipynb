{
 "cells": [
  {
   "cell_type": "code",
   "execution_count": 2,
   "metadata": {},
   "outputs": [],
   "source": [
    "from sympy import *"
   ]
  },
  {
   "cell_type": "markdown",
   "metadata": {},
   "source": [
    "# Definition of an transformation matrix\n",
    "following the guide on the side: https://www.maplesoft.com/applications/view.aspx?SID=6850&view=html"
   ]
  },
  {
   "cell_type": "code",
   "execution_count": 15,
   "metadata": {},
   "outputs": [],
   "source": [
    "a = symbols('a') #teta in example\n",
    "b = symbols('b') #alpa in example\n",
    "y = symbols('y') #length vertical\n",
    "x = symbols('x') #length horisontal\n",
    "g = symbols('g')"
   ]
  },
  {
   "cell_type": "code",
   "execution_count": 16,
   "metadata": {},
   "outputs": [
    {
     "data": {
      "text/plain": [
       "Matrix([\n",
       "[cos(a), -sin(a), 0, 0],\n",
       "[sin(a),  cos(a), 0, 0],\n",
       "[     0,       0, 1, y],\n",
       "[     0,       0, 0, 1]])"
      ]
     },
     "execution_count": 16,
     "metadata": {},
     "output_type": "execute_result"
    }
   ],
   "source": [
    "A1 = Matrix([[cos(a), -sin(a), 0, 0],\n",
    "             [sin(a),  cos(a), 0, 0],\n",
    "             [0,            0, 1, 0],\n",
    "             [0,            0, 0, 1]])\n",
    "\n",
    "A2 = Matrix([[1, 0, 0, 0],\n",
    "             [0, 1, 0, 0],\n",
    "             [0, 0, 1, y],\n",
    "             [0, 0, 0, 1]])\n",
    "B1 = A1*A2\n",
    "B1"
   ]
  },
  {
   "cell_type": "code",
   "execution_count": 21,
   "metadata": {},
   "outputs": [
    {
     "data": {
      "text/plain": [
       "Matrix([\n",
       "[1,      0,       0, x],\n",
       "[0, cos(b), -sin(b), 0],\n",
       "[0, sin(b),  cos(b), 0],\n",
       "[0,      0,       0, 1]])"
      ]
     },
     "execution_count": 21,
     "metadata": {},
     "output_type": "execute_result"
    }
   ],
   "source": [
    "A3 = Matrix([[1,0,0,0],\n",
    "             [0, cos(b), -sin(b), 0],\n",
    "             [0, sin(b),  cos(b), 0],\n",
    "             [0, 0, 0, 1]])\n",
    "\n",
    "A4 = Matrix([[1,0,0,x],\n",
    "             [0,1,0,0],\n",
    "             [0,0,1,0],\n",
    "             [0,0,0,1]])\n",
    "\n",
    "\n",
    "\n",
    "B2 = A3*A4\n",
    "B2"
   ]
  },
  {
   "cell_type": "code",
   "execution_count": 23,
   "metadata": {},
   "outputs": [
    {
     "data": {
      "text/plain": [
       "Matrix([\n",
       "[cos(a), -sin(a)*cos(b),  sin(a)*sin(b), x*cos(a)],\n",
       "[sin(a),  cos(a)*cos(b), -sin(b)*cos(a), x*sin(a)],\n",
       "[     0,         sin(b),         cos(b),        y],\n",
       "[     0,              0,              0,        1]])"
      ]
     },
     "execution_count": 23,
     "metadata": {},
     "output_type": "execute_result"
    }
   ],
   "source": [
    "# The DH matrix is then:\n",
    "H=B1*B2\n",
    "H"
   ]
  },
  {
   "cell_type": "code",
   "execution_count": 27,
   "metadata": {},
   "outputs": [
    {
     "data": {
      "text/plain": [
       "Matrix([\n",
       "[0, -1, 0,  0],\n",
       "[1,  0, 0,  0],\n",
       "[0,  0, 1, 12],\n",
       "[0,  0, 0,  1]])"
      ]
     },
     "execution_count": 27,
     "metadata": {},
     "output_type": "execute_result"
    }
   ],
   "source": [
    "# Substitution can be used to create anew matrix\n",
    "H1 = H.subs({a:pi/2, b:0, x:0, y:12})\n",
    "H1"
   ]
  }
 ],
 "metadata": {
  "kernelspec": {
   "display_name": "Python 3",
   "language": "python",
   "name": "python3"
  },
  "language_info": {
   "codemirror_mode": {
    "name": "ipython",
    "version": 3
   },
   "file_extension": ".py",
   "mimetype": "text/x-python",
   "name": "python",
   "nbconvert_exporter": "python",
   "pygments_lexer": "ipython3",
   "version": "3.6.3"
  }
 },
 "nbformat": 4,
 "nbformat_minor": 2
}
