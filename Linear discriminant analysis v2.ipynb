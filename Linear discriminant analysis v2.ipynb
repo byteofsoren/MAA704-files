{
 "cells": [
  {
   "cell_type": "markdown",
   "metadata": {},
   "source": [
    "# Linear discriminant analysis freddes."
   ]
  },
  {
   "cell_type": "code",
   "execution_count": 37,
   "metadata": {},
   "outputs": [
    {
     "name": "stdout",
     "output_type": "stream",
     "text": [
      "c1=\n",
      "Matrix([[1, 0], [1, 1], [2, 2], [2, 3]])\n",
      "c2=\n",
      "Matrix([[3, 0], [3, 1], [2, 0]])\n",
      "c3=Matrix([[1, 0], [1, 1], [2, 2], [2, 3], [3, 0], [3, 1], [2, 0]])\n"
     ]
    }
   ],
   "source": [
    "%matplotlib inline\n",
    "# first som imports\n",
    "import numpy as np\n",
    "import matplotlib.pyplot as plt\n",
    "from sympy import *\n",
    "\n",
    "#data\n",
    "c1 = Matrix([[1,0],\n",
    "             [1,1],\n",
    "             [2,2],\n",
    "             [2,3]])\n",
    "c2 = Matrix([[3,0],\n",
    "             [3,1],\n",
    "             [2,0]])\n",
    "c3 = c1.row_insert(4,c2)\n",
    "print(\"c1=\\n\"+ str(c1) + \"\\nc2=\\n\" + str(c2) + \"\\nc3=\" + str(c3))"
   ]
  },
  {
   "cell_type": "code",
   "execution_count": 38,
   "metadata": {},
   "outputs": [
    {
     "name": "stdout",
     "output_type": "stream",
     "text": [
      "Matrix([[1, 1, 2, 2], [0, 1, 2, 3]])\n",
      "Matrix([[3, 3, 2], [0, 1, 0]])\n",
      "Matrix([[1, 1, 2, 2, 3, 3, 2], [0, 1, 2, 3, 0, 1, 0]])\n"
     ]
    }
   ],
   "source": [
    "c1t = transpose(c1)\n",
    "c2t = transpose(c2)\n",
    "c3t = transpose(c3)\n",
    "print(str(c1t)+ \"\\n\" + str(c2t) + \"\\n\" + str(c3t))"
   ]
  },
  {
   "cell_type": "code",
   "execution_count": 21,
   "metadata": {},
   "outputs": [
    {
     "data": {
      "text/plain": [
       "Matrix([\n",
       "[0.316227766016838],\n",
       "[0.316227766016838],\n",
       "[0.632455532033676],\n",
       "[0.632455532033676]])"
      ]
     },
     "execution_count": 21,
     "metadata": {},
     "output_type": "execute_result"
    }
   ],
   "source": [
    "temp = Matrix(c1t.tolist()[0]).normalized()\n",
    "temp.evalf()"
   ]
  },
  {
   "cell_type": "code",
   "execution_count": 46,
   "metadata": {},
   "outputs": [
    {
     "name": "stdout",
     "output_type": "stream",
     "text": [
      "Matrix([[1.50000000000000], [1.50000000000000]])\n",
      "Matrix([[2.66666666666667], [0.333333333333333]])\n",
      "Matrix([[2.00000000000000], [1.00000000000000]])\n"
     ]
    }
   ],
   "source": [
    "c1mean= Matrix([np.mean(np.array(c1t.tolist()[0]).astype(np.float)),\n",
    "          np.mean(np.array(c1t.tolist()[1]).astype(np.float))])\n",
    "c2mean = Matrix([np.mean(np.array(c2t.tolist()[0]).astype(np.float)), \n",
    "          np.mean(np.array(c2t.tolist()[1]).astype(np.float))])\n",
    "c3mean = Matrix([np.mean(np.array(c3t.tolist()[0]).astype(np.float)), \n",
    "          np.mean(np.array(c3t.tolist()[1]).astype(np.float))])\n",
    "print(str(c1mean) + \"\\n\" + str(c2mean) + \"\\n\" + str(c3mean))"
   ]
  },
  {
   "cell_type": "markdown",
   "metadata": {},
   "source": [
    "# removing the mean form the data\n",
    "by using vector addition."
   ]
  },
  {
   "cell_type": "code",
   "execution_count": 70,
   "metadata": {},
   "outputs": [
    {
     "data": {
      "text/plain": [
       "1.00000000000000"
      ]
     },
     "execution_count": 70,
     "metadata": {},
     "output_type": "execute_result"
    }
   ],
   "source": [
    "c3mean.tolist()[1][0]"
   ]
  },
  {
   "cell_type": "code",
   "execution_count": 74,
   "metadata": {},
   "outputs": [
    {
     "name": "stdout",
     "output_type": "stream",
     "text": [
      "0\n",
      "1\n",
      "2\n",
      "3\n"
     ]
    },
    {
     "data": {
      "text/plain": [
       "[[-1.00000000000000, -1.00000000000000],\n",
       " [-1.00000000000000, 0],\n",
       " [0, 1.00000000000000],\n",
       " [0, 2.00000000000000]]"
      ]
     },
     "execution_count": 74,
     "metadata": {},
     "output_type": "execute_result"
    }
   ],
   "source": [
    "res = []\n",
    "leng = np.arange(0, len(c1t.tolist()[0]))\n",
    "for i in leng:\n",
    "    print(i)\n",
    "    x = c1.tolist()[i][0] - c3mean.tolist()[0][0]\n",
    "    y = c1.tolist()[i][1] - c3mean.tolist()[1][0]\n",
    "    res.append([x,y]) \n",
    "    \n",
    "res"
   ]
  },
  {
   "cell_type": "code",
   "execution_count": 293,
   "metadata": {},
   "outputs": [
    {
     "name": "stdout",
     "output_type": "stream",
     "text": [
      "\\begin{equation}\n",
      "A=\\left[\\begin{matrix}-4 & -3 & -1 & 1 & 3 & 4\\\\2 & 1 & 0 & 0 & -1 & -2\\end{matrix}\\right] \\Rightarrow\n",
      "\\overline{x}^T=\n",
      "\\left[\\begin{matrix}0.0\\\\0.0\\end{matrix}\\right]\n",
      "\\end{equation}\n",
      "\\benin{equation}\n",
      "\\text{norm}=\\left[\\begin{matrix}-4 & 2\\\\-3 & 1\\\\-1 & 0\\\\1 & 0\\\\3 & -1\\\\4 & -2\\end{matrix}\\right]\n",
      "\\end{equation}\n",
      "\\begin{equation}\n",
      "M:=\\frac{1}{D-1}*\\text{norm}^T*\\text{norm}\n",
      "\\end{equation\n",
      "\\begin{equation}\n",
      "m=0.2\\left[\\begin{matrix}-4 & -3 & -1 & 1 & 3 & 4\\\\2 & 1 & 0 & 0 & -1 & -2\\end{matrix}\\right]*\\left[\\begin{matrix}-4 & 2\\\\-3 & 1\\\\-1 & 0\\\\1 & 0\\\\3 & -1\\\\4 & -2\\end{matrix}\\right]=\\left[\\begin{matrix}10.4 & -4.4\\\\-4.4 & 2.0\\end{matrix}\\right]\n",
      "\\end{equation}\n",
      "M=\n",
      "Matrix([[10.4000000000000, -4.40000000000000], [-4.40000000000000, 2.00000000000000]])\n",
      "covariance_of_A=\n",
      "Matrix([[10.4000000000000, -4.40000000000000], [-4.40000000000000, 2.00000000000000]])\n"
     ]
    }
   ],
   "source": [
    "def removemean(A, frommean=0,setlatex=0):\n",
    "    ''' Removes the mean of an matrix\n",
    "        A = Matrix with 2 rows x,y\n",
    "        return A - mean\n",
    "    '''\n",
    "    if type(frommean)!=type(A):\n",
    "        mean = Matrix([np.mean(np.array(A.tolist()[0]).astype(np.float)),\n",
    "              np.mean(np.array(A.tolist()[1]).astype(np.float))])\n",
    "    else: #mean is a matrix\n",
    "        mean = Matrix([np.mean(np.array(frommean.tolist()[0]).astype(np.float)),\n",
    "              np.mean(np.array(frommean.tolist()[1]).astype(np.float))])\n",
    "    #print(\"mean=\\n\" + str(mean))\n",
    "    data = A\n",
    "    # remove mean form data.\n",
    "    length = len(data.tolist()[0])\n",
    "    temp = []\n",
    "    for i in np.arange(0,length):\n",
    "        x = data.tolist()[0][i] - mean.tolist()[0][0]\n",
    "        y = data.tolist()[1][i] - mean.tolist()[1][0]\n",
    "        #print(\"x=\" + str(x) + \" y=\" + str(y))\n",
    "        temp.append([x,y])\n",
    "    temp = Matrix(temp)\n",
    "    return temp\n",
    "    \n",
    "    \n",
    "def covariance(A, setLatex=0):\n",
    "    ''' Calculates the covariance of a matrix A.\n",
    "        A = Matrix with 2 rows x,y\n",
    "        setLatex = 0 is a condition to turn on latex printing of each math stepp.\n",
    "        returns M=covariance matrix\n",
    "    '''\n",
    "    #from sympy import *\n",
    "    #print(\"got the matrix\\n\" + str(A))\n",
    "    mean = Matrix([np.mean(np.array(A.tolist()[0]).astype(np.float)),\n",
    "          np.mean(np.array(A.tolist()[1]).astype(np.float))])\n",
    "    #print(\"mean=\\n\" + str(mean))\n",
    "    data = A\n",
    "    # remove mean form data.\n",
    "    length = len(data.tolist()[0])\n",
    "    temp = []\n",
    "    for i in np.arange(0,length):\n",
    "        x = data.tolist()[0][i] - mean.tolist()[0][0]\n",
    "        y = data.tolist()[1][i] - mean.tolist()[1][0]\n",
    "        #print(\"x=\" + str(x) + \" y=\" + str(y))\n",
    "        temp.append([x,y])\n",
    "    temp = Matrix(temp)\n",
    "    #print(\"temp=\" + str(temp))\n",
    "    cov = 1/(length -1 )*transpose(temp)*temp\n",
    "    #print(\"cov=\\n\" + str(cov))\n",
    "    if setLatex == 1:\n",
    "        print(\"\\\\begin{equation}\")\n",
    "        print(\"A=\" + latex(A) + \" \\\\Rightarrow\")\n",
    "        print(\"\\\\overline{x}^T=\")\n",
    "        print(str(latex(mean)))\n",
    "        print(\"\\\\end{equation}\")\n",
    "        print(\"\\\\benin{equation}\")\n",
    "        print(\"\\\\text{norm}=\" + str(latex(temp)))\n",
    "        print(\"\\\\end{equation}\")\n",
    "        print(\"\\\\begin{equation}\")\n",
    "        print(\"M:=\\\\frac{1}{D-1}*\\\\text{norm}^T*\\\\text{norm}\")\n",
    "        print(\"\\\\end{equation\")\n",
    "        print(\"\\\\begin{equation}\")\n",
    "        print(\"m=\" + str(1/(length -1)) + str(latex(transpose(temp))) + \"*\" + str(latex(temp)) + \"=\" + str(latex(cov)))\n",
    "        print(\"\\\\end{equation}\")\n",
    "    return cov \n",
    "    \n",
    "    \n",
    "#test case\n",
    "A = Matrix([[-4,2],\n",
    "              [-3,1],\n",
    "              [-1,0],\n",
    "              [1,0] ,\n",
    "              [3,-1],\n",
    "              [4,-2]])\n",
    "covariance_of_A= Matrix([[10.4, -4.4],\n",
    "                        [-4.4, 2.0]])\n",
    "M = covariance(transpose(A), setLatex=1)\n",
    "print(\"M=\\n\" + str(M) + \"\\ncovariance_of_A=\\n\" + str(covariance_of_A))"
   ]
  },
  {
   "cell_type": "markdown",
   "metadata": {},
   "source": [
    "# calculate covariance of each class"
   ]
  },
  {
   "cell_type": "code",
   "execution_count": 265,
   "metadata": {},
   "outputs": [
    {
     "name": "stdout",
     "output_type": "stream",
     "text": [
      "\\left[\\begin{matrix}-4 & 2\\\\-3 & 1\\\\-1 & 0\\\\1 & 0\\\\3 & -1\\\\4 & -2\\end{matrix}\\right]\n",
      "A=\\left[\\begin{matrix}-4 & 2\\\\-3 & 1\\\\-1 & 0\\\\1 & 0\\\\3 & -1\\\\4 & -2\\end{matrix}\\right]\n"
     ]
    }
   ],
   "source": [
    "print(str(latex(A)))\n",
    "def test(A):\n",
    "    print(\"A=\" + str(latex(A)))\n",
    "    \n",
    "\n",
    "    \n",
    "test(A)"
   ]
  },
  {
   "cell_type": "code",
   "execution_count": 266,
   "metadata": {},
   "outputs": [
    {
     "name": "stdout",
     "output_type": "stream",
     "text": [
      "\\begin{equation}\n",
      "A=\\left[\\begin{matrix}3 & 3 & 2\\\\0 & 1 & 0\\end{matrix}\\right] \\Rightarrow\n",
      "\\overline{x}^T=\n",
      "\\left[\\begin{matrix}2.66666666666667\\\\0.333333333333333\\end{matrix}\\right]\n",
      "\\end{equation}\n",
      "\\benin{equation}\n",
      "\\text{norm}=\\left[\\begin{matrix}0.333333333333334 & -0.333333333333333\\\\0.333333333333334 & 0.666666666666667\\\\-0.666666666666666 & -0.333333333333333\\end{matrix}\\right]\n",
      "\\end{equation}\n",
      "\\begin{equation}\n",
      "M:=\\frac{1}{D-1}*\\text{norm}^T*\\text{norm}\n",
      "\\end{equation\n",
      "\\begin{equation}\n",
      "m=0.5\\left[\\begin{matrix}0.333333333333334 & 0.333333333333334 & -0.666666666666666\\\\-0.333333333333333 & 0.666666666666667 & -0.333333333333333\\end{matrix}\\right]*\\left[\\begin{matrix}0.333333333333334 & -0.333333333333333\\\\0.333333333333334 & 0.666666666666667\\\\-0.666666666666666 & -0.333333333333333\\end{matrix}\\right]=\\left[\\begin{matrix}0.333333333333333 & 0.166666666666667\\\\0.166666666666667 & 0.333333333333333\\end{matrix}\\right]\n",
      "\\end{equation}\n"
     ]
    }
   ],
   "source": [
    "s1 = covariance(c1t, setLatex=0)\n",
    "s2 = covariance(c2t, setLatex=1)\n",
    "\n",
    "#print(str(s1))\n",
    "#print(str(s2))"
   ]
  },
  {
   "cell_type": "code",
   "execution_count": 267,
   "metadata": {},
   "outputs": [
    {
     "name": "stdout",
     "output_type": "stream",
     "text": [
      "\\begin{equation}\n",
      "S_w = S_1 + S_2 = \n",
      "\\left[\\begin{matrix}0.666666666666667 & 0.833333333333333\\\\0.833333333333333 & 2.0\\end{matrix}\\right]\n",
      "\\end{equation}\n"
     ]
    }
   ],
   "source": [
    "sw = s1 + s2\n",
    "print(\"\\\\begin{equation}\")\n",
    "print(\"S_w = S_1 + S_2 = \")\n",
    "print(str(latex(sw)))\n",
    "print(\"\\end{equation}\")"
   ]
  },
  {
   "cell_type": "code",
   "execution_count": 268,
   "metadata": {},
   "outputs": [
    {
     "name": "stdout",
     "output_type": "stream",
     "text": [
      "\\left[\\begin{matrix}0.667 & 0.833\\\\0.833 & 2.0\\end{matrix}\\right]\n"
     ]
    }
   ],
   "source": [
    "def pMatrix(m, decimals=3, setlatex=0):\n",
    "    ''' Prints matrixes that are rounded in each cell to n decimals.\n",
    "        m = sympy matrix\n",
    "        decimals = nr of decimals that is needed\n",
    "        pirts a rounded latex matrix\n",
    "        return nothing\n",
    "    '''\n",
    "    temp = np.array(m.tolist()).astype(np.float)\n",
    "    tr = temp.round(decimals)\n",
    "    if setlatex == 0:\n",
    "        print(str(tr))\n",
    "    elif setlatex == 1:\n",
    "        mx = Matrix(tr)\n",
    "        print(str(latex(mx)))\n",
    "    else:\n",
    "        print(\"setlatex not rekognised\")\n",
    "    pass\n",
    "\n",
    "pMatrix(sw, setlatex=1, decimals=3)"
   ]
  },
  {
   "cell_type": "code",
   "execution_count": 269,
   "metadata": {},
   "outputs": [
    {
     "name": "stdout",
     "output_type": "stream",
     "text": [
      "\\left[\\begin{matrix}3.13 & -1.304\\\\-1.304 & 1.043\\end{matrix}\\right]\n"
     ]
    }
   ],
   "source": [
    "w = sw.inv()\n",
    "pMatrix(w,decimals=3,setlatex=1)"
   ]
  },
  {
   "cell_type": "code",
   "execution_count": 270,
   "metadata": {},
   "outputs": [
    {
     "name": "stdout",
     "output_type": "stream",
     "text": [
      "\\left[\\begin{matrix}-5.174\\\\2.739\\end{matrix}\\right]\n"
     ]
    }
   ],
   "source": [
    "wstar = w * (c1mean -c2mean)\n",
    "pMatrix(wstar,setlatex=1)"
   ]
  },
  {
   "cell_type": "code",
   "execution_count": 271,
   "metadata": {},
   "outputs": [
    {
     "name": "stdout",
     "output_type": "stream",
     "text": [
      "k=-1.88888888888889\n"
     ]
    }
   ],
   "source": [
    "kx = wstar.tolist()[0][0]/wstar.tolist()[1][0]\n",
    "print(\"k=\" + str(kx))"
   ]
  },
  {
   "cell_type": "code",
   "execution_count": 304,
   "metadata": {},
   "outputs": [
    {
     "data": {
      "image/png": "[encoded data removed]",
      "text/plain": [
       "<matplotlib.figure.Figure at 0x7fb7ceafc588>"
      ]
     },
     "metadata": {},
     "output_type": "display_data"
    }
   ],
   "source": [
    "# plot of line and data\n",
    "xAxis = np.arange(-2,2,0.01)\n",
    "y = kx * xAxis\n",
    "\n",
    "\n",
    "plt.scatter(c1t.tolist()[0], c1t.tolist()[1])\n",
    "plt.scatter(c2t.tolist()[0], c2t.tolist()[1])\n",
    "plt.plot(xAxis,y)\n",
    "plt.grid()\n"
   ]
  },
  {
   "cell_type": "code",
   "execution_count": 305,
   "metadata": {},
   "outputs": [
    {
     "name": "stdout",
     "output_type": "stream",
     "text": [
      "v1 on v2 givesMatrix([[4/5], [2/5]])\n",
      "v2 on v1 givesMatrix([[2], [0]])\n"
     ]
    }
   ],
   "source": [
    "# Test of projection\n",
    "v1 = Matrix([[2],[1]])\n",
    "v2 = Matrix([[1],[0]])\n",
    "# proj v1 on v2\n",
    "print(\"v1 on v2 gives\" + str(v2.project(v1)))\n",
    "print(\"v2 on v1 gives\" + str(v1.project(v2)))"
   ]
  },
  {
   "cell_type": "markdown",
   "metadata": {},
   "source": [
    "# projecting data on the line"
   ]
  },
  {
   "cell_type": "code",
   "execution_count": 306,
   "metadata": {},
   "outputs": [
    {
     "name": "stdout",
     "output_type": "stream",
     "text": [
      "c1=\n",
      "[[ 1.  0.]\n",
      " [ 1.  1.]\n",
      " [ 2.  2.]\n",
      " [ 2.  3.]]\n",
      "porj1=\n",
      "[[ 0.     2.739]\n",
      " [-1.217 -1.217]\n",
      " [-1.217 -1.217]\n",
      " [-2.318 -1.545]]\n",
      "proj1 transpose=\n",
      "[[ 0.    -1.217 -1.217 -2.318]\n",
      " [ 2.739 -1.217 -1.217 -1.545]]\n"
     ]
    },
    {
     "data": {
      "image/png": "[encoded data removed]",
      "text/plain": [
       "<matplotlib.figure.Figure at 0x7fb7d0ae5978>"
      ]
     },
     "metadata": {},
     "output_type": "display_data"
    }
   ],
   "source": [
    "# Creating a projection matrix.\n",
    "# project data on wstar vector.\n",
    "proj1 = []\n",
    "def getpos(m, pos=0):\n",
    "    x = m.tolist()[1][pos]\n",
    "    y = m.tolist()[0][pos]\n",
    "    return [[x],[y]]\n",
    "    \n",
    "    \n",
    "for i in np.arange(0,len(c1t.tolist()[0])):\n",
    "    #v = Matrix(getpos(c1t, i))\n",
    "    v = getpos(c1t, i)\n",
    "    #print(\"x=\" + str(x) + \" y=\" + str(y) + \" v=\" + str(v))\n",
    "    p = wstar.project(transpose(Matrix(v)))\n",
    "    proj1.append(p)\n",
    "    #proj1.append(wstar.project(v).tolist())\n",
    "    \n",
    "proj2 = []\n",
    "for i in np.arange(0, len(c2t.tolist()[0])):\n",
    "    v = Matrix(getpos(c2t, i))\n",
    "    proj2.append(wstar.project(v).tolist())\n",
    "    \n",
    "xAxis = np.arange(0,4,0.01)\n",
    "y = kx * xAxis\n",
    "\n",
    "proj1 = Matrix(proj1)\n",
    "proj2 = Matrix(proj2)\n",
    "print(\"c1=\")\n",
    "pMatrix(c1)\n",
    "print(\"porj1=\")\n",
    "pMatrix(proj1)\n",
    "proj1t = transpose(Matrix(proj1))\n",
    "proj2t = transpose(Matrix(proj1))\n",
    "print(\"proj1 transpose=\")\n",
    "pMatrix(proj1t)\n",
    "plt.scatter(c1t.tolist()[0], c1t.tolist()[1],label=\"c1t\")\n",
    "plt.scatter(c2t.tolist()[0], c2t.tolist()[1], label=\"c2t\")\n",
    "plt.scatter(proj1t[0],proj1t[1],label=\"projection1\")\n",
    "#plt.scatter(proj2[0],proj2[1])\n",
    "plt.plot(xAxis,y)\n",
    "plt.legend()\n",
    "plt.grid()"
   ]
  },
  {
   "cell_type": "markdown",
   "metadata": {},
   "source": [
    "# Using the method in 1.3 to plot the data."
   ]
  },
  {
   "cell_type": "code",
   "execution_count": 352,
   "metadata": {},
   "outputs": [
    {
     "name": "stdout",
     "output_type": "stream",
     "text": [
      "Matrix([[3.13043478260870, -1.30434782608696], [-1.30434782608696, 1.04347826086956]])\n",
      "[[-5.174]\n",
      " [ 2.739]]\n",
      "[[ 3.13043478 -1.30434783]\n",
      " [-1.30434783  1.04347826]]\n",
      "eginvals of wnp\n",
      "[ 3.75733676  0.41657629]\n",
      "eignvectors of wnp\n",
      "[ 3.75733676  0.41657629]\n",
      "[[ 0.90130324  0.43318873]\n",
      " [-0.43318873  0.90130324]]\n"
     ]
    }
   ],
   "source": [
    "# eainvalue of w\n",
    "print(w)\n",
    "pMatrix(wstar)\n",
    "wnp = np.matrix(w).astype(np.float)\n",
    "print(wnp)\n",
    "print(\"eginvals of wnp\")\n",
    "print(np.linalg.eigvals(wnp))\n",
    "print(\"eignvectors of wnp\")\n",
    "eigval,eigvect = np.linalg.eig(wnp)\n",
    "print(eigval)\n",
    "print(eigvect)"
   ]
  },
  {
   "cell_type": "code",
   "execution_count": 337,
   "metadata": {},
   "outputs": [],
   "source": [
    "# so the intresting eginval is 3.76 and the vector [[0.9],[-0.4]]\n",
    "l1 = 3.75733676\n",
    "v1 = Matrix([[0.90130324],\n",
    "             [-0.43318873]])\n",
    "TL1 = s1*v1\n",
    "TL2 = s2*v1\n",
    "XL1 = TL1 * transpose(v1)\n",
    "XL2 = TL2 * transpose(v1)\n",
    "XL1T = transpose(XL1).tolist()\n",
    "XL2T = transpose(XL1).tolist()"
   ]
  },
  {
   "cell_type": "code",
   "execution_count": 338,
   "metadata": {},
   "outputs": [
    {
     "name": "stdout",
     "output_type": "stream",
     "text": [
      "[[ 0.01  -0.005]\n",
      " [-0.109  0.052]]\n",
      "[[ 0.206 -0.099]\n",
      " [ 0.005 -0.003]]\n",
      "[[ 0.01  -0.109]\n",
      " [-0.005  0.052]]\n",
      "[[ 0.01  -0.109]\n",
      " [-0.005  0.052]]\n"
     ]
    }
   ],
   "source": [
    "pMatrix(XL1, setlatex=0)\n",
    "pMatrix(XL2, setlatex=0)\n",
    "pMatrix(Matrix(XL1T))\n",
    "pMatrix(Matrix(XL2T))"
   ]
  },
  {
   "cell_type": "code",
   "execution_count": 339,
   "metadata": {},
   "outputs": [
    {
     "data": {
      "text/plain": [
       "<matplotlib.collections.PathCollection at 0x7fb7ce7ada90>"
      ]
     },
     "execution_count": 339,
     "metadata": {},
     "output_type": "execute_result"
    },
    {
     "data": {
      "image/png": "[encoded data removed]",
      "text/plain": [
       "<matplotlib.figure.Figure at 0x7fb7ce76db38>"
      ]
     },
     "metadata": {},
     "output_type": "display_data"
    }
   ],
   "source": [
    "# plot the data.\n",
    "v1temp = v1.tolist()\n",
    "xAxis = np.arange(-2,2,0.01)\n",
    "yline = xAxis*v1temp[1][0]/v1temp[0][0]\n",
    "\n",
    "\n",
    "plt.plot(xAxis, yline)\n",
    "plt.scatter(c1t.tolist()[0], c1t.tolist()[1],label=\"c1t\")\n",
    "plt.scatter(c2t.tolist()[0], c2t.tolist()[1], label=\"c2t\")\n",
    "plt.scatter(XL1T[0],XL1T[1])\n",
    "plt.scatter(XL2T[0],XL2T[1])"
   ]
  },
  {
   "cell_type": "code",
   "execution_count": 340,
   "metadata": {},
   "outputs": [
    {
     "name": "stdout",
     "output_type": "stream",
     "text": [
      "[[0.333333333333333, 0.666666666666667], [0.666666666666667, 1.66666666666667]]\n"
     ]
    }
   ],
   "source": [
    "print(s1.tolist())"
   ]
  },
  {
   "cell_type": "code",
   "execution_count": 366,
   "metadata": {},
   "outputs": [],
   "source": [
    "normdata1 = transpose(removemean(c1t,frommean=c3t)).tolist()\n",
    "normdata2 = transpose(removemean(c2t,frommean=c3t)).tolist()\n",
    "#print(normdata1)\n"
   ]
  },
  {
   "cell_type": "code",
   "execution_count": 402,
   "metadata": {},
   "outputs": [
    {
     "data": {
      "image/png": "[encoded data removed]",
      "text/plain": [
       "<matplotlib.figure.Figure at 0x7fb7ce52aac8>"
      ]
     },
     "metadata": {},
     "output_type": "display_data"
    }
   ],
   "source": [
    "#plt.scatter(c1t.tolist()[0], c1t.tolist()[1],label=\"c1t\",c='b')\n",
    "#plt.scatter(c2t.tolist()[0], c2t.tolist()[1], label=\"c2t\",c='r')\n",
    "plt.scatter(normdata1[0],normdata1[1],marker='+',c='b', label=\"c1-normalized\")\n",
    "plt.scatter(normdata2[0],normdata2[1],marker='+',c='r', label=\"c2-normalized\")\n",
    "plt.plot(xAxis, yline, label=\"ploj-line1\")\n",
    "plt.plot(xAxis, wkx, label=\"pro-line2\")\n",
    "plt.scatter(XL1T[0],XL1T[1],marker='x',c='b', label=\"c1-projected\")\n",
    "plt.scatter(XL2T[0],XL2T[1],marker='x',c='r', label=\"c2-projected\")\n",
    "plt.legend()\n",
    "plt.xlabel(\"X-axis\")\n",
    "plt.ylabel(\"Y-axis\")\n",
    "plt.grid()\n",
    "plt.savefig(\"proj1_4.jpg\")"
   ]
  },
  {
   "cell_type": "code",
   "execution_count": 343,
   "metadata": {},
   "outputs": [
    {
     "data": {
      "text/plain": [
       "[[0.0104929062245090, -0.109158989511144],\n",
       " [-0.00504315142748645, 0.0524645224113647]]"
      ]
     },
     "execution_count": 343,
     "metadata": {},
     "output_type": "execute_result"
    }
   ],
   "source": [
    "XL1T"
   ]
  },
  {
   "cell_type": "code",
   "execution_count": 344,
   "metadata": {},
   "outputs": [
    {
     "data": {
      "text/plain": [
       "[[0.0104929062245090, -0.109158989511144],\n",
       " [-0.00504315142748645, 0.0524645224113647]]"
      ]
     },
     "execution_count": 344,
     "metadata": {},
     "output_type": "execute_result"
    }
   ],
   "source": [
    "XL2T"
   ]
  },
  {
   "cell_type": "code",
   "execution_count": 368,
   "metadata": {},
   "outputs": [
    {
     "name": "stdout",
     "output_type": "stream",
     "text": [
      "[[-5.174]\n",
      " [ 2.739]]\n",
      "[[ 3.13  -1.304]\n",
      " [-1.304  1.043]]\n",
      "[[ 1.  1.  2.  2.]\n",
      " [ 0.  1.  2.  3.]]\n"
     ]
    }
   ],
   "source": [
    "pMatrix(wstar)\n",
    "wkx = xAxis*(-5.174/2.739)\n",
    "pMatrix(w)\n",
    "pMatrix(c1t)"
   ]
  },
  {
   "cell_type": "code",
   "execution_count": 396,
   "metadata": {},
   "outputs": [
    {
     "name": "stdout",
     "output_type": "stream",
     "text": [
      "[[ 3.13  -1.304]\n",
      " [ 1.826 -0.261]\n",
      " [ 3.652 -0.522]\n",
      " [ 2.348  0.522]]\n",
      "[[3.13043478260870, 1.82608695652174, 3.65217391304348, 2.34782608695652], [-1.30434782608696, -0.260869565217391, -0.521739130434782, 0.521739130434783]]\n"
     ]
    }
   ],
   "source": [
    "projc1t = []\n",
    "for i in np.arange(0, len(c1t.tolist()[0])):\n",
    "    #print(c1t.tolist()[0][i])\n",
    "    temp = Matrix([[c1t.tolist()[0][i]],\n",
    "                   [c1t.tolist()[1][i]]])\n",
    "    ywx = transpose(w) * temp\n",
    "    projc1t.append([ywx.tolist()[0][0], ywx.tolist()[1][0]]) \n",
    "    #print(ywx.tolist()[0][0])\n",
    "    \n",
    "projc1t = Matrix(projc1t)\n",
    "pMatrix(projc1t)\n",
    "projc1list= transpose(projc1t).tolist()\n",
    "print(projc1list)"
   ]
  },
  {
   "cell_type": "code",
   "execution_count": 401,
   "metadata": {},
   "outputs": [
    {
     "data": {
      "image/png": "[encoded data removed]",
      "text/plain": [
       "<matplotlib.figure.Figure at 0x7fb7ce5d8470>"
      ]
     },
     "metadata": {},
     "output_type": "display_data"
    }
   ],
   "source": [
    "plt.scatter(c1t.tolist()[0], c1t.tolist()[1],label=\"c1t\",c='b')\n",
    "plt.scatter(c2t.tolist()[0], c2t.tolist()[1], label=\"c2t\",c='r')\n",
    "#plt.scatter(normdata1[0],normdata1[1],marker='+',c='b', label=\"c1-normalized\")\n",
    "#plt.scatter(normdata2[0],normdata2[1],marker='+',c='r', label=\"c2-normalized\")\n",
    "plt.plot(xAxis, wkx, label=\"pro-line2\")\n",
    "plt.scatter(projc1list[0],projc1list[1], marker='x', c='b')\n",
    "plt.legend()\n",
    "plt.xlabel(\"X-axis\")\n",
    "plt.ylabel(\"Y-axis\")\n",
    "plt.grid()\n",
    "plt.savefig(\"proj1_4.jpg\")"
   ]
  },
  {
   "cell_type": "code",
   "execution_count": null,
   "metadata": {
    "collapsed": true
   },
   "outputs": [],
   "source": []
  }
 ],
 "metadata": {
  "kernelspec": {
   "display_name": "Python 3",
   "language": "python",
   "name": "python3"
  },
  "language_info": {
   "codemirror_mode": {
    "name": "ipython",
    "version": 3
   },
   "file_extension": ".py",
   "mimetype": "text/x-python",
   "name": "python",
   "nbconvert_exporter": "python",
   "pygments_lexer": "ipython3",
   "version": "3.6.3"
  }
 },
 "nbformat": 4,
 "nbformat_minor": 2
}
