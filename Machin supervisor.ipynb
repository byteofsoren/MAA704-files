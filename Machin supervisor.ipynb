{
 "cells": [
  {
   "cell_type": "markdown",
   "metadata": {},
   "source": [
    "# Machin supervisor or not"
   ]
  },
  {
   "cell_type": "code",
   "execution_count": 1,
   "metadata": {
    "collapsed": true
   },
   "outputs": [],
   "source": [
    "# Imports\n",
    "import numpy as np\n",
    "\n",
    "# A function that returns a LaTeX matrix\n",
    "def bmatrix(a):\n",
    "    \"\"\"Returns a LaTeX bmatrix\n",
    "\n",
    "    :a: numpy array\n",
    "    :returns: LaTeX bmatrix as a string\n",
    "    \"\"\"\n",
    "    if len(a.shape) > 2:\n",
    "        raise ValueError('bmatrix can at most display two dimensions')\n",
    "    lines = str(a).replace('[', '').replace(']', '').splitlines()\n",
    "    rv = [r'\\begin{bmatrix}']\n",
    "    rv += ['  ' + ' & '.join(l.split()) + r'\\\\ ' for l in lines]\n",
    "    rv +=  [r'\\end{bmatrix}']\n",
    "    return ''.join(rv)"
   ]
  },
  {
   "cell_type": "code",
   "execution_count": 2,
   "metadata": {},
   "outputs": [
    {
     "data": {
      "text/plain": [
       "matrix([[ 0.9,  0.1],\n",
       "        [ 0.4,  0.6]])"
      ]
     },
     "execution_count": 2,
     "metadata": {},
     "output_type": "execute_result"
    }
   ],
   "source": [
    "# Transission matrix for unsupervised machine\n",
    "pu = np.matrix([[0.9,0.1],[0.4,0.6]])\n",
    "pu"
   ]
  },
  {
   "cell_type": "code",
   "execution_count": 3,
   "metadata": {},
   "outputs": [
    {
     "data": {
      "text/plain": [
       "matrix([[ 0.08,  0.9 ,  0.02],\n",
       "        [ 0.05,  0.9 ,  0.05],\n",
       "        [ 0.4 ,  0.  ,  0.6 ]])"
      ]
     },
     "execution_count": 3,
     "metadata": {},
     "output_type": "execute_result"
    }
   ],
   "source": [
    "# Transision matrix for supervied machine\n",
    "ps = np.matrix([[0.08,0.9,0.02],[0.05,0.9,0.05],[0.4,0,0.6]])\n",
    "ps"
   ]
  },
  {
   "cell_type": "markdown",
   "metadata": {},
   "source": [
    "# Absorbing markov chain."
   ]
  },
  {
   "cell_type": "code",
   "execution_count": 4,
   "metadata": {},
   "outputs": [
    {
     "data": {
      "text/plain": [
       "matrix([[ 0.08,  0.9 ,  0.02],\n",
       "        [ 0.05,  0.9 ,  0.05],\n",
       "        [ 0.  ,  0.  ,  1.  ]])"
      ]
     },
     "execution_count": 4,
     "metadata": {},
     "output_type": "execute_result"
    }
   ],
   "source": [
    "psabs = np.matrix([[0.08,0.9,0.02],[0.05,0.9,0.05],[0,0,1]])\n",
    "psabs"
   ]
  },
  {
   "cell_type": "code",
   "execution_count": 5,
   "metadata": {},
   "outputs": [
    {
     "data": {
      "text/plain": [
       "matrix([[ 0.08,  0.9 ],\n",
       "        [ 0.05,  0.9 ]])"
      ]
     },
     "execution_count": 5,
     "metadata": {},
     "output_type": "execute_result"
    }
   ],
   "source": [
    "qs = np.matrix([[0.08, 0.9],[0.05,0.9]])\n",
    "qs"
   ]
  },
  {
   "cell_type": "code",
   "execution_count": 6,
   "metadata": {},
   "outputs": [
    {
     "data": {
      "text/plain": [
       "matrix([[ 0.02],\n",
       "        [ 0.05]])"
      ]
     },
     "execution_count": 6,
     "metadata": {},
     "output_type": "execute_result"
    }
   ],
   "source": [
    "rs = np.matrix([[0.02],[0.05]])\n",
    "rs"
   ]
  },
  {
   "cell_type": "code",
   "execution_count": 7,
   "metadata": {},
   "outputs": [
    {
     "name": "stdout",
     "output_type": "stream",
     "text": [
      "[[  2.12765957  19.14893617]\n",
      " [  1.06382979  19.57446809]]\n",
      "\\begin{bmatrix}  2.12765957 & 19.14893617\\\\   1.06382979 & 19.57446809\\\\ \\end{bmatrix}\n",
      "\\begin{bmatrix}  21.27659574\\\\   20.63829787\\\\ \\end{bmatrix}\n"
     ]
    }
   ],
   "source": [
    "# (I - q)^-1\n",
    "ns = (np.identity(2) - qs)**(-1)\n",
    "print(str(ns))\n",
    "print(bmatrix(ns))\n",
    "print(bmatrix(ns*np.matrix([[1],[1]])))"
   ]
  },
  {
   "cell_type": "markdown",
   "metadata": {},
   "source": [
    "# Stationary distrubution\n",
    "Stationary distrubution asks the question $\\pi P = \\pi$ \n",
    "to solve that we are using the eginvalues and egivectors"
   ]
  },
  {
   "cell_type": "code",
   "execution_count": 8,
   "metadata": {},
   "outputs": [
    {
     "data": {
      "text/plain": [
       "array([ 0.05104394,  0.52895606,  1.        ])"
      ]
     },
     "execution_count": 8,
     "metadata": {},
     "output_type": "execute_result"
    }
   ],
   "source": [
    "egin_of_p=np.linalg.eigvals(ps)\n",
    "egin_of_p"
   ]
  },
  {
   "cell_type": "code",
   "execution_count": 9,
   "metadata": {},
   "outputs": [
    {
     "data": {
      "text/plain": [
       "matrix([[ 0.08948546,  0.80536913,  0.10514541]])"
      ]
     },
     "execution_count": 9,
     "metadata": {},
     "output_type": "execute_result"
    }
   ],
   "source": [
    "test1 = np.matrix([1,0,0])*ps**50\n",
    "test1"
   ]
  },
  {
   "cell_type": "code",
   "execution_count": 10,
   "metadata": {},
   "outputs": [
    {
     "data": {
      "text/plain": [
       "array([ 0.05104394,  1.        ,  0.52895606])"
      ]
     },
     "execution_count": 10,
     "metadata": {},
     "output_type": "execute_result"
    }
   ],
   "source": [
    "# Trying stationary distrobution\n",
    "# Calculating the eginvalue of the transposed matrix\n",
    "np.linalg.eigvals(np.transpose(ps))"
   ]
  },
  {
   "cell_type": "code",
   "execution_count": 11,
   "metadata": {},
   "outputs": [
    {
     "data": {
      "text/plain": [
       "(matrix([[ 0.68559419, -0.10951344,  0.33490392],\n",
       "         [-0.72681591, -0.98562097, -0.81233918],\n",
       "         [ 0.04122172, -0.12867829,  0.47743526]]),)"
      ]
     },
     "execution_count": 11,
     "metadata": {},
     "output_type": "execute_result"
    }
   ],
   "source": [
    "# Calculating the eigenvectors\n",
    "egivectors=np.linalg.eig(np.transpose(ps))\n",
    "#print(str(egivectors))\n",
    "egivectors[1:2]\n",
    "#print(bmatrix(egivectors[1:2]))\n"
   ]
  },
  {
   "cell_type": "code",
   "execution_count": 12,
   "metadata": {},
   "outputs": [
    {
     "name": "stdout",
     "output_type": "stream",
     "text": [
      "test1=[[ 0.08948546  0.80536913  0.10514541]]\n",
      "test2=[[ 0.08948546  0.80536913  0.10514541]]\n"
     ]
    }
   ],
   "source": [
    "# The secound column in the matrix seams to be all negative is that then an cadidate for the system\n",
    "# fii we can multiply that with -1 so in this case the sationary distrubution is:\n",
    "t = 1/(0.10951344 + 0.98562097 + 0.12867829)\n",
    "test2 = t * np.matrix([0.10951344, 0.98562097, 0.12867829])\n",
    "print(\"test1=\" + str(test1))\n",
    "print(\"test2=\" + str(test2))\n"
   ]
  },
  {
   "cell_type": "code",
   "execution_count": 13,
   "metadata": {},
   "outputs": [
    {
     "data": {
      "text/plain": [
       "matrix([[ 0.08948546,  0.80536913,  0.10514541]])"
      ]
     },
     "execution_count": 13,
     "metadata": {},
     "output_type": "execute_result"
    }
   ],
   "source": [
    "test1*ps"
   ]
  },
  {
   "cell_type": "markdown",
   "metadata": {},
   "source": [
    "# Long term expected reward"
   ]
  },
  {
   "cell_type": "code",
   "execution_count": 14,
   "metadata": {},
   "outputs": [
    {
     "name": "stdout",
     "output_type": "stream",
     "text": [
      "-70\n"
     ]
    }
   ],
   "source": [
    "Cr = -70 # cost of machine while its uder reapair.\n",
    "R  = 120 # Running reward \n",
    "Cp = -5  # Cost of the supervisor\n",
    "print(str(Cr))"
   ]
  },
  {
   "cell_type": "code",
   "execution_count": 15,
   "metadata": {},
   "outputs": [
    {
     "name": "stdout",
     "output_type": "stream",
     "text": [
      "allert 0.0894854580280136\n",
      "tierd 0.8053691304233074\n",
      "broken 0.10514541154867897\n"
     ]
    }
   ],
   "source": [
    "vpi=test2.tolist()[0]\n",
    "print(\"allert \" + str(vpi[0]))\n",
    "print(\"tierd \" + str(vpi[1]))\n",
    "print(\"broken \"+ str(vpi[2]))"
   ]
  },
  {
   "cell_type": "code",
   "execution_count": 16,
   "metadata": {},
   "outputs": [
    {
     "name": "stdout",
     "output_type": "stream",
     "text": [
      "the reward is 95.02237180575099\n"
     ]
    }
   ],
   "source": [
    "#reward= Cp*R*vpi[0] + Cp*R*vpi[1] - Cr*Cp*vpi[2]\n",
    "reward = (R + Cp)*vpi[0] + (R + Cp)*vpi[1] + (Cr + Cp)*vpi[2]\n",
    "print(\"the reward is \" + str(reward))"
   ]
  },
  {
   "cell_type": "markdown",
   "metadata": {},
   "source": [
    "# Two supervisors"
   ]
  },
  {
   "cell_type": "code",
   "execution_count": 17,
   "metadata": {
    "collapsed": true
   },
   "outputs": [],
   "source": [
    "# One supervisor have the alert probability to detect a error of\n",
    "AlertSup = 0.8\n",
    "TirerdSup = 0.5"
   ]
  },
  {
   "cell_type": "markdown",
   "metadata": {},
   "source": [
    "probability of two Alert supevisor is asking the question\n",
    "P(AuB) = P(A) + P(B) - P(A^B)\n",
    "Then because A and B is unrelated\n",
    "P(AuB) = P(A) + P(P) -P(A)P(B)"
   ]
  },
  {
   "cell_type": "code",
   "execution_count": 18,
   "metadata": {},
   "outputs": [
    {
     "name": "stdout",
     "output_type": "stream",
     "text": [
      "Thus 2 allert supervisor got the probability 0.96 to discover a error\n",
      "and to tierd supervisor got the probobily 0.75 to discover a error\n"
     ]
    }
   ],
   "source": [
    "TwoAlertSup = 2 * AlertSup - AlertSup*AlertSup\n",
    "TwoTiredSup = 2 * TirerdSup - TirerdSup*TirerdSup\n",
    "print(\"Thus 2 allert supervisor got the probability \"+ str(TwoAlertSup) + \" to discover a error\")\n",
    "print(\"and to tierd supervisor got the probobily \" + str(TwoTiredSup) + \" to discover a error\")"
   ]
  },
  {
   "cell_type": "code",
   "execution_count": 19,
   "metadata": {},
   "outputs": [
    {
     "name": "stdout",
     "output_type": "stream",
     "text": [
      "[[ 0.096  0.9    0.004]\n",
      " [ 0.075  0.9    0.025]\n",
      " [ 0.4    0.     0.6  ]]\n",
      "\\begin{bmatrix}  0.096 & 0.9 & 0.004\\\\   0.075 & 0.9 & 0.025\\\\   0.4 & 0. & 0.6\\\\ \\end{bmatrix}\n"
     ]
    }
   ],
   "source": [
    "P2 = np.matrix([[0.1*0.96, 0.9, 0.1*0.04],[0.1*0.75, 0.9, 0.1*(1-0.75)],[0.4, 0, 0.6]])\n",
    "print(str(P2))\n",
    "print(bmatrix(P2))"
   ]
  },
  {
   "cell_type": "code",
   "execution_count": 20,
   "metadata": {},
   "outputs": [
    {
     "name": "stdout",
     "output_type": "stream",
     "text": [
      "[[ 0.09458501  0.85126507  0.05414992]]\n",
      "\\begin{bmatrix}  0.09458501 & 0.85126507 & 0.05414992\\\\ \\end{bmatrix}\n"
     ]
    }
   ],
   "source": [
    "# Statationary distrubution\n",
    "longtimeExp = np.matrix([1, 0 ,0])*P2**50\n",
    "print(str(longtimeExp))\n",
    "lte=longtimeExp.tolist()[0]\n",
    "print(bmatrix(longtimeExp))"
   ]
  },
  {
   "cell_type": "code",
   "execution_count": 21,
   "metadata": {},
   "outputs": [
    {
     "name": "stdout",
     "output_type": "stream",
     "text": [
      "The rewart for hering 2 supervisors is 99.71151572476346\n"
     ]
    }
   ],
   "source": [
    "Reward2 = (R + 2*Cp)*lte[0] + (R + 2*Cp)*lte[1] + (Cr + 2*Cp)*lte[2]\n",
    "print(\"The rewart for hering 2 supervisors is \" + str(Reward2))"
   ]
  }
 ],
 "metadata": {
  "kernelspec": {
   "display_name": "Python 3",
   "language": "python",
   "name": "python3"
  },
  "language_info": {
   "codemirror_mode": {
    "name": "ipython",
    "version": 3
   },
   "file_extension": ".py",
   "mimetype": "text/x-python",
   "name": "python",
   "nbconvert_exporter": "python",
   "pygments_lexer": "ipython3",
   "version": "3.6.3"
  }
 },
 "nbformat": 4,
 "nbformat_minor": 2
}
