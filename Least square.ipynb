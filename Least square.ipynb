{
 "cells": [
  {
   "cell_type": "markdown",
   "metadata": {},
   "source": [
    "# Waited least square\n",
    "example form lecture pdf"
   ]
  },
  {
   "cell_type": "code",
   "execution_count": 1,
   "metadata": {
    "collapsed": true
   },
   "outputs": [],
   "source": [
    "import numpy as np\n",
    "import matplotlib.pyplot as plt\n",
    "\n",
    "def bmatrix(a):\n",
    "    \"\"\"Returns a LaTeX bmatrix\n",
    "\n",
    "    :a: numpy array\n",
    "    :returns: LaTeX bmatrix as a string\n",
    "    \"\"\"\n",
    "    if len(a.shape) > 2:\n",
    "        raise ValueError('bmatrix can at most display two dimensions')\n",
    "    lines = str(a).replace('[', '').replace(']', '').splitlines()\n",
    "    rv = [r'\\begin{bmatrix}']\n",
    "    rv += ['  ' + ' & '.join(l.split()) + r'\\\\ ' for l in lines]\n",
    "    rv +=  [r'\\end{bmatrix}']\n",
    "    return ''.join(rv)"
   ]
  },
  {
   "cell_type": "markdown",
   "metadata": {},
   "source": [
    "# Fitt the data.\n",
    "Find the best parabola that fits the four data points. Consider\n",
    "the first and the fourth one 5 times more important than the\n",
    "other two.\\\\\n",
    "$$ (−1, 1), (0, 0), (1, 0), (2, −2) $$"
   ]
  },
  {
   "cell_type": "markdown",
   "metadata": {},
   "source": [
    "$$ p(-1)= 1a + (-1)b + (-1)^2c = 1$$\\\\\n",
    "$$ p(0) = 1a + 0b + 0^2c = 0$$ \\\\\n",
    "$$ p(1) = 1a + 1b + 1^2c = 0$$\\\\\n",
    "$$ p(2) = 1a + 2b + 2^2c = −2 $$\\\\"
   ]
  },
  {
   "cell_type": "code",
   "execution_count": 2,
   "metadata": {
    "collapsed": true
   },
   "outputs": [],
   "source": [
    "datax = [-1, 0, 1, 2]\n",
    "datay = [1, 0, 0, -2]"
   ]
  },
  {
   "cell_type": "code",
   "execution_count": 3,
   "metadata": {
    "collapsed": true
   },
   "outputs": [],
   "source": [
    "A = np.matrix([[1, -1 , 1],\n",
    "               [1,  0 , 0],\n",
    "               [1,  1 , 1],\n",
    "               [1,  2,  4]])\n",
    "y = np.matrix([[1],\n",
    "               [0],\n",
    "               [0],\n",
    "               [-2]])"
   ]
  },
  {
   "cell_type": "markdown",
   "metadata": {},
   "source": [
    "Then the waited matrix is."
   ]
  },
  {
   "cell_type": "code",
   "execution_count": 4,
   "metadata": {
    "collapsed": true
   },
   "outputs": [],
   "source": [
    "W = np.matrix([[5, 0, 0, 0],\n",
    "               [0, 1, 0, 0],\n",
    "               [0, 0, 1, 0],\n",
    "               [0, 0, 0, 5]])"
   ]
  },
  {
   "cell_type": "code",
   "execution_count": 5,
   "metadata": {},
   "outputs": [
    {
     "name": "stdout",
     "output_type": "stream",
     "text": [
      "A^T*W*A = A^T*W*y gives:\n",
      "[[12  6 26]\n",
      " [ 6 26 36]\n",
      " [26 36 86]]\n",
      "[[ -5]\n",
      " [-25]\n",
      " [-35]]\n"
     ]
    }
   ],
   "source": [
    "ATWA = np.transpose(A)*W*A\n",
    "ATWy = np.transpose(A)*W*y\n",
    "print(\"A^T*W*A = A^T*W*y gives:\")\n",
    "print(str(ATWA))\n",
    "print(str(ATWy))"
   ]
  },
  {
   "cell_type": "markdown",
   "metadata": {},
   "source": [
    "Solving this with gause jordan elemination geves \\\\\n",
    "$ a=0.4891,\\quad b=-0.7283,\\quad c=-0.25 $\\\\\n",
    "Thus the fitted line is:\\\\\n",
    "$ p(x) = 0.4891 - 0.7283x - 0.25x^2 $"
   ]
  },
  {
   "cell_type": "code",
   "execution_count": 6,
   "metadata": {},
   "outputs": [
    {
     "data": {
      "text/plain": [
       "[<matplotlib.lines.Line2D at 0x7efefd58b278>]"
      ]
     },
     "execution_count": 6,
     "metadata": {},
     "output_type": "execute_result"
    },
    {
     "data": {
      "image/png": "[encoded data removed]",
      "text/plain": [
       "<matplotlib.figure.Figure at 0x7efefe929860>"
      ]
     },
     "metadata": {},
     "output_type": "display_data"
    }
   ],
   "source": [
    "#plot\n",
    "%matplotlib inline\n",
    "x=np.arange(-5,5,0.1)\n",
    "fig=plt.figure()\n",
    "plt.scatter(datax,datay)\n",
    "px = 0.4891 - 0.7283*x - 0.25*x**2\n",
    "plt.plot(x,px)"
   ]
  },
  {
   "cell_type": "markdown",
   "metadata": {},
   "source": [
    "# Assigment 2 part 1.1.b"
   ]
  },
  {
   "cell_type": "code",
   "execution_count": 7,
   "metadata": {
    "collapsed": true
   },
   "outputs": [],
   "source": [
    "datax = [ -1, 2, 4, 5, 7]\n",
    "datay = [ 0, 2, 1, -1, -3]"
   ]
  },
  {
   "cell_type": "markdown",
   "metadata": {},
   "source": [
    "fit the data to $ p(x) = a + bx + cx^2 $"
   ]
  },
  {
   "cell_type": "markdown",
   "metadata": {},
   "source": [
    "$$ p(-1) = 1a + (-1)b + (-1)^2c = 0 $$\n",
    "$$ p(2) = 1a + (2)b + (2)^2c = 2 $$\n",
    "$$ p(4) = 1a + (4)b + (4)^2c = 1 $$\n",
    "$$ p(5) = 1a + (5)b + (5)^2c = -1$$\n",
    "$$ p(7) = 1a + (7)b + (7)^2c = -3$$"
   ]
  },
  {
   "cell_type": "code",
   "execution_count": 8,
   "metadata": {
    "collapsed": true
   },
   "outputs": [],
   "source": [
    "A = np.matrix([[1, -1 , 1],\n",
    "               [1, 2, 2**2],\n",
    "               [1, 4, 4**2],\n",
    "               [1, 5, 5**2],\n",
    "               [1, 7, 7**2]])\n",
    "y = np.matrix([[0],\n",
    "               [2],\n",
    "               [1],\n",
    "               [-1],\n",
    "               [-3]])"
   ]
  },
  {
   "cell_type": "markdown",
   "metadata": {},
   "source": [
    "The waited matrix is"
   ]
  },
  {
   "cell_type": "code",
   "execution_count": 9,
   "metadata": {},
   "outputs": [
    {
     "name": "stdout",
     "output_type": "stream",
     "text": [
      "A^T*W*A = A^T*W*y gives:\n",
      "\\begin{bmatrix}  4.2 & 11.4 & 55.8\\\\   11.4 & 55.8 & 264.6\\\\   55.8 & 264.6 & 1378.2\\\\ \\end{bmatrix}\n",
      "\\begin{bmatrix}  0\\\\   2\\\\   1\\\\   -1\\\\   -3\\\\ \\end{bmatrix}\n",
      "\\begin{bmatrix}  1.4\\\\   -1.2\\\\   -30.4\\\\ \\end{bmatrix}\n"
     ]
    }
   ],
   "source": [
    "W = np.matrix([[1, 0, 0, 0, 0],\n",
    "               [0, 1, 0, 0, 0],\n",
    "               [0, 0, 1, 0, 0],\n",
    "               [0, 0, 0, 1, 0],\n",
    "               [0, 0, 0, 0, 1/5]])\n",
    "\n",
    "#print(bmatrix(W))\n",
    "#print(bmatrix(np.transpose(A)))\n",
    "#print(bmatrix(A))\n",
    "ATWA = np.transpose(A)*W*A\n",
    "ATWy = np.transpose(A)*W*y\n",
    "print(\"A^T*W*A = A^T*W*y gives:\")\n",
    "print(bmatrix(ATWA))\n",
    "print(bmatrix(y))\n",
    "print(bmatrix(ATWy))"
   ]
  },
  {
   "cell_type": "markdown",
   "metadata": {},
   "source": [
    "Gause jordan gives $ p(x) = 1.0798 + 0.7790x - 0.2153x^2 $"
   ]
  },
  {
   "cell_type": "code",
   "execution_count": 10,
   "metadata": {},
   "outputs": [
    {
     "data": {
      "image/png": "[encoded data removed]",
      "text/plain": [
       "<matplotlib.figure.Figure at 0x7efefe929780>"
      ]
     },
     "metadata": {},
     "output_type": "display_data"
    }
   ],
   "source": [
    "#plot\n",
    "%matplotlib inline\n",
    "x=np.arange(-3,9,0.1)\n",
    "fig=plt.figure()\n",
    "plt.scatter(datax,datay)\n",
    "px = 1.0798 + 0.7790*x - 0.2153*x**2\n",
    "plt.plot(x,px)\n",
    "plt.grid()\n",
    "plt.savefig(\"graf2.svg\")"
   ]
  },
  {
   "cell_type": "code",
   "execution_count": 139,
   "metadata": {},
   "outputs": [
    {
     "data": {
      "image/png": "[encoded data removed]",
      "text/plain": [
       "<matplotlib.figure.Figure at 0x7efef9498ef0>"
      ]
     },
     "metadata": {},
     "output_type": "display_data"
    }
   ],
   "source": [
    "# plotting both curves in the same graph.\n",
    "pxa = -0.18*x**2 + 0.67*x + 1\n",
    "plt.scatter(datax,datay, label='Scatter')\n",
    "px = 1.0798 + 0.7790*x - 0.2153*x**2\n",
    "plt.plot(x,px, label='Waited')\n",
    "plt.plot(x,pxa, label='Normal')\n",
    "plt.legend()\n",
    "plt.grid()\n",
    "plt.savefig(\"quadratic_plot.jpg\")"
   ]
  },
  {
   "cell_type": "markdown",
   "metadata": {},
   "source": [
    "# Exponential fitt of data points."
   ]
  },
  {
   "cell_type": "code",
   "execution_count": 24,
   "metadata": {},
   "outputs": [
    {
     "data": {
      "text/plain": [
       "[-1, 2, 4, 5, 7]"
      ]
     },
     "execution_count": 24,
     "metadata": {},
     "output_type": "execute_result"
    }
   ],
   "source": [
    "# The data points.\n",
    "from sympy import *\n",
    "\n",
    "data = Matrix([[-1,2,4,5,7],\n",
    "               [7,6,5,3,1]])\n",
    "\n",
    "#latex(data)\n",
    "temp = data.tolist()\n",
    "temp[0]"
   ]
  },
  {
   "cell_type": "code",
   "execution_count": 27,
   "metadata": {},
   "outputs": [
    {
     "data": {
      "image/png": "[encoded data removed]",
      "text/plain": [
       "<matplotlib.figure.Figure at 0x7efefb2354e0>"
      ]
     },
     "metadata": {},
     "output_type": "display_data"
    }
   ],
   "source": [
    "# Plot a scatter of the data\n",
    "plt.scatter(temp[0], temp[1])\n",
    "plt.grid()"
   ]
  },
  {
   "cell_type": "code",
   "execution_count": 29,
   "metadata": {
    "collapsed": true
   },
   "outputs": [],
   "source": [
    "# function to fitt against \n",
    "q = symbols('q')\n",
    "b = symbols('b')"
   ]
  },
  {
   "cell_type": "code",
   "execution_count": 33,
   "metadata": {},
   "outputs": [],
   "source": [
    "f1 = lambda x: q + b*x**2"
   ]
  },
  {
   "cell_type": "code",
   "execution_count": 36,
   "metadata": {},
   "outputs": [
    {
     "name": "stdout",
     "output_type": "stream",
     "text": [
      "b + q\n",
      "4*b + q\n",
      "16*b + q\n",
      "25*b + q\n",
      "49*b + q\n"
     ]
    }
   ],
   "source": [
    "for i in temp[0]:\n",
    "    print(str(f1(i)))"
   ]
  },
  {
   "cell_type": "code",
   "execution_count": 116,
   "metadata": {},
   "outputs": [
    {
     "name": "stdout",
     "output_type": "stream",
     "text": [
      "Matrix([[1, 1], [1, 4], [1, 16], [1, 25], [1, 49]])\n",
      "Matrix([[1.94591014905531], [1.79175946922805], [1.60943791243410], [1.09861228866811], [0]])\n"
     ]
    }
   ],
   "source": [
    "A = Matrix([[1,1],[1,4],[1,4**2],[1, 5**2], [1, 7**2]])\n",
    "y = []\n",
    "for i in temp[1]:\n",
    "    y.append(ln(i))\n",
    "   \n",
    "y = Matrix(y)\n",
    "#latex(y)\n",
    "print(str(A))\n",
    "print(str(y))"
   ]
  },
  {
   "cell_type": "code",
   "execution_count": 117,
   "metadata": {},
   "outputs": [
    {
     "name": "stdout",
     "output_type": "stream",
     "text": [
      "\\left[\\begin{matrix}5 & 95\\\\95 & 3299\\end{matrix}\\right]\n",
      "Matrix([[5, 95], [95, 3299]])\n"
     ]
    }
   ],
   "source": [
    "AtA = transpose(A)*A\n",
    "print(str(latex(AtA)))\n",
    "print(str(AtA))"
   ]
  },
  {
   "cell_type": "code",
   "execution_count": 56,
   "metadata": {},
   "outputs": [
    {
     "name": "stdout",
     "output_type": "stream",
     "text": [
      "\\left[\\begin{bmatrix}\\log{\\left (3 \\right )} + \\log{\\left (5 \\right )} + \\log{\\left (6 \\right )} + \\log{\\left (7 \\right )}\\\\\\log{\\left (7 \\right )} + 4 \\log{\\left (6 \\right )} + 16 \\log{\\left (5 \\right )} + 25 \\log{\\left (3 \\right )}\\end{bmatrix}\\right]\n"
     ]
    }
   ],
   "source": [
    "Aty = transpose(A)*y\n",
    "print(str(latex(Aty, mat_str = \"bmatrix\")))"
   ]
  },
  {
   "cell_type": "code",
   "execution_count": 67,
   "metadata": {},
   "outputs": [
    {
     "name": "stdout",
     "output_type": "stream",
     "text": [
      "Matrix([[5, 95], [95, 3299]])\n",
      "Matrix([[log(3) + log(5) + log(6) + log(7)], [log(7) + 4*log(6) + 16*log(5) + 25*log(3)]])\n"
     ]
    },
    {
     "data": {
      "text/plain": [
       "[5, 95]"
      ]
     },
     "execution_count": 67,
     "metadata": {},
     "output_type": "execute_result"
    }
   ],
   "source": [
    "print(str(AtA))\n",
    "print(str(Aty))\n",
    "#togaus = [AtA.tolist()[0], Aty.tolist()[0]]\n",
    "#togaus\n",
    "AtA.tolist()[0][]"
   ]
  },
  {
   "cell_type": "code",
   "execution_count": 93,
   "metadata": {},
   "outputs": [
    {
     "name": "stdout",
     "output_type": "stream",
     "text": [
      "\\left[\\begin{matrix}5 & 95 & \\log{\\left (3 \\right )} + \\log{\\left (5 \\right )} + \\log{\\left (6 \\right )} + \\log{\\left (7 \\right )}\\\\95 & 3299 & \\log{\\left (7 \\right )} + 4 \\log{\\left (6 \\right )} + 16 \\log{\\left (5 \\right )} + 25 \\log{\\left (3 \\right )}\\end{matrix}\\right]\n",
      "\n",
      "\n",
      "\\left[\\begin{matrix}1 & 0 & \\frac{154}{1245} \\log{\\left (3 \\right )} + \\frac{593}{2490} \\log{\\left (5 \\right )} + \\frac{973}{2490} \\log{\\left (6 \\right )} + \\frac{178}{415} \\log{\\left (7 \\right )}\\\\0 & 1 & - \\frac{1}{83} \\log{\\left (7 \\right )} - \\frac{5}{498} \\log{\\left (6 \\right )} - \\frac{1}{498} \\log{\\left (5 \\right )} + \\frac{1}{249} \\log{\\left (3 \\right )}\\end{matrix}\\right]\n"
     ]
    }
   ],
   "source": [
    "# newlist = [s.upper() for s in oldlist]\n",
    "gausas = Matrix([[5, 95, log(3) + log(5) + log(6) + log(7)],\n",
    "                 [95, 3299, log(7) + 4*log(6) + 16*log(5) + 25*log(3)]])\n",
    "\n",
    "t = gausas.rref()\n",
    "print(str(latex(gausas)) + \"\\n\\n\")\n",
    "print(str(latex(t[0], )))\n",
    "#print(str(latex(t[0], mat_str=\"bmatrx\")))"
   ]
  },
  {
   "cell_type": "code",
   "execution_count": 101,
   "metadata": {},
   "outputs": [
    {
     "name": "stdout",
     "output_type": "stream",
     "text": [
      "\\left[\\begin{matrix}1.0 & 0 & 2.0539691846318\\\\0 & 1.0 & -0.0402539589870884\\end{matrix}\\right]\n"
     ]
    }
   ],
   "source": [
    "# so the redused was to big to fitt on the paper.\n",
    "bla = t[0]\n",
    "print(str(latex(bla.evalf())))"
   ]
  },
  {
   "cell_type": "code",
   "execution_count": 140,
   "metadata": {},
   "outputs": [
    {
     "name": "stdout",
     "output_type": "stream",
     "text": [
      "2.71828182845905\n",
      "6.63925660405478\n"
     ]
    }
   ],
   "source": [
    "from mpmath import *\n",
    "e = mp.e\n",
    "print(e)\n",
    "#f = lambda x: ln(2.0539691846318) + (-0.0402539589870884*x**2)\n",
    "#f = lambda x: 2.053*e**(-0.04*x**2)\n",
    "#f = lambda x: 2.053*e**(-0.04*x**2)\n",
    "f = lambda x: (e**2.053)*e**(-0.04*x**2)\n",
    "#f = lambda x:-0.0402539589870884* e **(2.0539691846318*x**2)\n",
    "print(str(f(2)))"
   ]
  },
  {
   "cell_type": "code",
   "execution_count": 143,
   "metadata": {},
   "outputs": [
    {
     "data": {
      "image/png": "[encoded data removed]",
      "text/plain": [
       "<matplotlib.figure.Figure at 0x7efef948cc88>"
      ]
     },
     "metadata": {},
     "output_type": "display_data"
    }
   ],
   "source": [
    "# Plot of f(x) and data points\n",
    "import numpy as np\n",
    "xlin = np.arange(-3,7,0.01)\n",
    "plt.plot(xlin, f(xlin))\n",
    "plt.scatter(temp[0], temp[1])\n",
    "plt.grid()\n",
    "plt.savefig(\"exponential_plot.jpg\")"
   ]
  },
  {
   "cell_type": "markdown",
   "metadata": {},
   "source": [
    "# Principal component analysis"
   ]
  },
  {
   "cell_type": "code",
   "execution_count": 207,
   "metadata": {},
   "outputs": [
    {
     "name": "stdout",
     "output_type": "stream",
     "text": [
      "[[12.28, Matrix([\n",
      "[-0.92],\n",
      "[ 0.39]])], [0.12, Matrix([\n",
      "[-0.92],\n",
      "[-0.39]])]]\n"
     ]
    }
   ],
   "source": [
    "# given data.\n",
    "A = transpose(Matrix([[-4,2],\n",
    "                      [-3,1],\n",
    "                      [-1,0],\n",
    "                      [1,0] ,\n",
    "                      [3,-1],\n",
    "                      [4,-2]]))\n",
    "M = Matrix([[10.4, -4.4],\n",
    "            [-4.4, 2.0]])\n",
    "egin=[]\n",
    "egin.append([12.28,Matrix([[-0.92],[0.39]])])\n",
    "egin.append([0.12, Matrix([[-0.92],[-0.39]])])\n",
    "print(str(egin))"
   ]
  },
  {
   "cell_type": "code",
   "execution_count": 172,
   "metadata": {},
   "outputs": [
    {
     "name": "stdout",
     "output_type": "stream",
     "text": [
      "[-4, -3, -1, 1, 3, 4]\n",
      "[2, 1, 0, 0, -1, -2]\n"
     ]
    }
   ],
   "source": [
    "# Convert A to a list so it can be indexed.\n",
    "tempA = A.tolist()\n",
    "print(str(tempA[0]))\n",
    "print(str(tempA[1]))"
   ]
  },
  {
   "cell_type": "code",
   "execution_count": 243,
   "metadata": {},
   "outputs": [
    {
     "name": "stdout",
     "output_type": "stream",
     "text": [
      "[[-0.920000000000000], [0.390000000000000]]\n"
     ]
    },
    {
     "data": {
      "image/png": "[encoded data removed]",
      "text/plain": [
       "<matplotlib.figure.Figure at 0x7efefa427a90>"
      ]
     },
     "metadata": {},
     "output_type": "display_data"
    }
   ],
   "source": [
    "# Polott of A\n",
    "vector1 = egin[0][1].tolist()\n",
    "vector2 = egin[1][1].tolist()\n",
    "print(str(vector1))\n",
    "plt.scatter(tempA[0],tempA[1], label='Scatter')\n",
    "# Line \n",
    "xline = np.arange(-5,5,0.01)\n",
    "eginLine1 = xline*vector1[1]/vector1[0]\n",
    "eginLine2 = xline*vector2[1]/vector2[0]\n",
    "plt.plot(xline,eginLine1, color='#0066ff', label='v_1')\n",
    "plt.plot(xline,eginLine2, color='#0F0F0F0F', label='v_2')\n",
    "plt.legend()\n",
    "plt.xlabel('x-values')\n",
    "plt.ylabel('y-values')\n",
    "plt.grid()\n",
    "plt.savefig('pca_orginal.jpg')"
   ]
  },
  {
   "cell_type": "code",
   "execution_count": 174,
   "metadata": {},
   "outputs": [
    {
     "name": "stdout",
     "output_type": "stream",
     "text": [
      "xmean=0 ymean=0\n",
      "Medelvardet var tydligen 0\n"
     ]
    }
   ],
   "source": [
    "# mean value of the x and y asxis\n",
    "xmean = 0\n",
    "for i in tempA[0]:\n",
    "    xmean += i\n",
    "\n",
    "ymean = 0\n",
    "for i in tempA[1]:\n",
    "    ymean += i\n",
    "    \n",
    "print(\"xmean=\" + str(xmean) + \" ymean=\" + str(ymean))\n",
    "print(\"Medelvardet var tydligen 0\")"
   ]
  },
  {
   "cell_type": "markdown",
   "metadata": {},
   "source": [
    "# Deriving the new data set.\n",
    "$$ finaldata = RowFetureVectro * RowData $$\n",
    "Wher rowFetureVector is an transposed eginvector colum matrix.\n",
    "RowData is our A matrix but i dont know if it also have to be transposed or not.\n",
    "Do som experimenting."
   ]
  },
  {
   "cell_type": "code",
   "execution_count": 198,
   "metadata": {},
   "outputs": [
    {
     "data": {
      "text/plain": [
       "Matrix([\n",
       "[-0.92, -0.92],\n",
       "[ 0.39, -0.39]])"
      ]
     },
     "execution_count": 198,
     "metadata": {},
     "output_type": "execute_result"
    }
   ],
   "source": [
    "#egin[0][1].tolist()[0][0]\n",
    "#RFV = transpose(Matrix([egin[0][1].tolist()[0][0],egin[1][1].tolist()]))\n",
    "col1 = egin[0][1].tolist()\n",
    "col2 = egin[1][1].tolist()\n",
    "RFV = Matrix([[col1[0][0], col2[0][0]],\n",
    "       [col1[1][0], col2[1][0]]])\n",
    "RFV"
   ]
  },
  {
   "cell_type": "code",
   "execution_count": 200,
   "metadata": {
    "collapsed": true
   },
   "outputs": [],
   "source": [
    "fin = RFV*A"
   ]
  },
  {
   "cell_type": "code",
   "execution_count": 202,
   "metadata": {},
   "outputs": [
    {
     "data": {
      "image/png": "[encoded data removed]",
      "text/plain": [
       "<matplotlib.figure.Figure at 0x7efef8dd1b70>"
      ]
     },
     "metadata": {},
     "output_type": "display_data"
    }
   ],
   "source": [
    "# plot fin.\n",
    "fitTemp = fin.tolist()\n",
    "plt.scatter(fitTemp[0],fitTemp[1])\n",
    "plt.grid()"
   ]
  },
  {
   "cell_type": "code",
   "execution_count": 205,
   "metadata": {},
   "outputs": [
    {
     "name": "stdout",
     "output_type": "stream",
     "text": [
      "Matrix([[1.84000000000000, 1.84000000000000, 0.920000000000000, -0.920000000000000, -1.84000000000000, -1.84000000000000], [-2.34000000000000, -1.56000000000000, -0.390000000000000, 0.390000000000000, 1.56000000000000, 2.34000000000000]])\n"
     ]
    }
   ],
   "source": [
    "print(str(fin))"
   ]
  },
  {
   "cell_type": "code",
   "execution_count": 260,
   "metadata": {},
   "outputs": [
    {
     "name": "stdout",
     "output_type": "stream",
     "text": [
      "Matrix([[-0.920000000000000], [0.390000000000000]])\n",
      "\\left[\\begin{matrix}4.46\\\\3.15\\\\0.92\\\\-0.92\\\\-3.15\\\\-4.46\\end{matrix}\\right]\n",
      "\\left[\\begin{matrix}-4.1032 & 1.7394\\\\-2.898 & 1.2285\\\\-0.8464 & 0.3588\\\\0.8464 & -0.3588\\\\2.898 & -1.2285\\\\4.1032 & -1.7394\\end{matrix}\\right]\n"
     ]
    }
   ],
   "source": [
    "eginvector1 = egin[0][1]\n",
    "print(str(eginvector1))\n",
    "TL = transpose(A)*eginvector1\n",
    "print(str(latex(TL)))\n",
    "XL = TL*transpose(eginvector1)\n",
    "print(str(latex(XL)))"
   ]
  },
  {
   "cell_type": "code",
   "execution_count": 255,
   "metadata": {},
   "outputs": [
    {
     "name": "stdout",
     "output_type": "stream",
     "text": [
      "[[-0.920000000000000], [0.390000000000000]]\n",
      "[[-4.10320000000000, 1.73940000000000], [-2.89800000000000, 1.22850000000000], [-0.846400000000000, 0.358800000000000], [0.846400000000000, -0.358800000000000], [2.89800000000000, -1.22850000000000], [4.10320000000000, -1.73940000000000]]\n"
     ]
    },
    {
     "data": {
      "image/png": "[encoded data removed]",
      "text/plain": [
       "<matplotlib.figure.Figure at 0x7efef94b14e0>"
      ]
     },
     "metadata": {},
     "output_type": "display_data"
    }
   ],
   "source": [
    "# Polott of A\n",
    "vector1 = egin[0][1].tolist()\n",
    "vector2 = egin[1][1].tolist()\n",
    "print(str(vector1))\n",
    "plt.scatter(tempA[0],tempA[1], label='Scatter')\n",
    "# Line \n",
    "xline = np.arange(-5,5,0.01)\n",
    "eginLine1 = xline*vector1[1]/vector1[0]\n",
    "eginLine2 = xline*vector2[1]/vector2[0]\n",
    "#print(\"eginline1=\\n\" + str(latex(eginLine1)) + \"\\neginline2=\\n\" + str(latex(eginLine2)))\n",
    "plt.plot(xline,eginLine1, color='#0066ff', label='Line1')\n",
    "plt.plot(xline,eginLine2, color='#0F0F0F0F', label='Line2')\n",
    "\n",
    "#plt.plot(XL.tolist()[0],XL.tolist()[1])\n",
    "print(str(XL.tolist()))\n",
    "temp = transpose(XL).tolist()\n",
    "plt.scatter(temp[0],temp[1], label='Result')\n",
    "\n",
    "\n",
    "plt.legend()\n",
    "plt.xlabel('x-values')\n",
    "plt.ylabel('y-values')\n",
    "plt.grid()\n",
    "plt.savefig('pca_result.jpg')"
   ]
  }
 ],
 "metadata": {
  "kernelspec": {
   "display_name": "Python 3",
   "language": "python",
   "name": "python3"
  },
  "language_info": {
   "codemirror_mode": {
    "name": "ipython",
    "version": 3
   },
   "file_extension": ".py",
   "mimetype": "text/x-python",
   "name": "python",
   "nbconvert_exporter": "python",
   "pygments_lexer": "ipython3",
   "version": "3.6.3"
  }
 },
 "nbformat": 4,
 "nbformat_minor": 2
}
