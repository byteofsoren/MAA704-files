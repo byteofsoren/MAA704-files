{
 "cells": [
  {
   "cell_type": "markdown",
   "metadata": {},
   "source": [
    "# Assigment 2"
   ]
  },
  {
   "cell_type": "code",
   "execution_count": 94,
   "metadata": {},
   "outputs": [],
   "source": [
    "%matplotlib inline\n",
    "\n",
    "import matplotlib\n",
    "import numpy as np\n",
    "import matplotlib.pyplot as plt\n",
    "import sympy as sy\n",
    "\n",
    "# import plotly.plotly as py\n",
    "# A function that returns a LaTeX matrix\n",
    "def bmatrix(a):\n",
    "    \"\"\"Returns a LaTeX bmatrix\n",
    "\n",
    "    :a: numpy array\n",
    "    :returns: LaTeX bmatrix as a string\n",
    "    \"\"\"\n",
    "    if len(a.shape) > 2:\n",
    "        raise ValueError('bmatrix can at most display two dimensions')\n",
    "    lines = str(a).replace('[', '').replace(']', '').splitlines()\n",
    "    rv = [r'\\begin{bmatrix}']\n",
    "    rv += ['  ' + ' & '.join(l.split()) + r'\\\\ ' for l in lines]\n",
    "    rv +=  [r'\\end{bmatrix}']\n",
    "    return ''.join(rv)"
   ]
  },
  {
   "cell_type": "markdown",
   "metadata": {},
   "source": [
    "# Part1\n",
    "# Part1.1.a least square:"
   ]
  },
  {
   "cell_type": "code",
   "execution_count": 91,
   "metadata": {},
   "outputs": [
    {
     "name": "stdout",
     "output_type": "stream",
     "text": [
      "[[-1  2  4  5  7]\n",
      " [ 0  2  1 -1 -3]]\n",
      "\\begin{bmatrix}  -1 & 2 & 4 & 5 & 7\\\\   0 & 2 & 1 & -1 & -3\\\\ \\end{bmatrix}\n"
     ]
    }
   ],
   "source": [
    "x1a = np.matrix([[-1, 2, 4, 5, 7],[0, 2, 1, -1, -3]])\n",
    "print( str(x1a))\n",
    "print(str(bmatrix(x1a)))"
   ]
  },
  {
   "cell_type": "code",
   "execution_count": 16,
   "metadata": {},
   "outputs": [
    {
     "data": {
      "text/plain": [
       "matrix([[ 1, -2, -4, -5, -7],\n",
       "        [-2,  8, 10,  8,  8],\n",
       "        [-4, 10, 17, 19, 25],\n",
       "        [-5,  8, 19, 26, 38],\n",
       "        [-7,  8, 25, 38, 58]])"
      ]
     },
     "execution_count": 16,
     "metadata": {},
     "output_type": "execute_result"
    }
   ],
   "source": [
    "np.transpose(x1a)*x1a"
   ]
  },
  {
   "cell_type": "code",
   "execution_count": 76,
   "metadata": {},
   "outputs": [
    {
     "data": {
      "text/plain": [
       "<matplotlib.collections.PathCollection at 0x7f2ca235e0f0>"
      ]
     },
     "execution_count": 76,
     "metadata": {},
     "output_type": "execute_result"
    },
    {
     "data": {
      "image/png": "[encoded data removed]",
      "text/plain": [
       "<matplotlib.figure.Figure at 0x7f2c76fc5b38>"
      ]
     },
     "metadata": {},
     "output_type": "display_data"
    }
   ],
   "source": [
    "xgrap = np.arange(-4,10, 0.1)\n",
    "yh = (-.1844)*xgrap**2 + 0.678*xgrap + 1\n",
    "#ym = (-0.30920162)*xgrap**2 + (0.67836965)*xgrap + (0.99757869)\n",
    "plt.plot(xgrap,yh)\n",
    "#plt.plot(xgrap,ym)\n",
    "plt.scatter(x1a.tolist()[0],x1a.tolist()[1])"
   ]
  },
  {
   "cell_type": "code",
   "execution_count": null,
   "metadata": {},
   "outputs": [],
   "source": []
  },
  {
   "cell_type": "markdown",
   "metadata": {},
   "source": [
    "Fitting the model in to the moddel"
   ]
  },
  {
   "cell_type": "markdown",
   "metadata": {},
   "source": [
    "$ p(x)=1a + xb +x^2c=y$"
   ]
  },
  {
   "cell_type": "markdown",
   "metadata": {},
   "source": [
    "From the matirx abowe the creation of the big X by fitting $p(x)=y$ abowe gives:"
   ]
  },
  {
   "cell_type": "code",
   "execution_count": 92,
   "metadata": {},
   "outputs": [
    {
     "name": "stdout",
     "output_type": "stream",
     "text": [
      "\\begin{bmatrix}  1 & -1 & 1\\\\   1 & 2 & 4\\\\   1 & 4 & 16\\\\   1 & 5 & 25\\\\   1 & 7 & 49\\\\ \\end{bmatrix}\n",
      "xtransposed\n",
      "\\begin{bmatrix}  1 & 1 & 1 & 1 & 1\\\\   -1 & 2 & 4 & 5 & 7\\\\   1 & 4 & 16 & 25 & 49\\\\ \\end{bmatrix}\n"
     ]
    }
   ],
   "source": [
    "xvals=x1a.tolist()[0]\n",
    "yvals=x1a.tolist()[1]\n",
    "X = np.matrix([[1, (xvals[0]), (xvals[0])**2],\n",
    "               [1, (xvals[1]), (xvals[1])**2],\n",
    "               [1, (xvals[2]), (xvals[2])**2],\n",
    "               [1, (xvals[3]), (xvals[3])**2],\n",
    "               [1, (xvals[4]), (xvals[4])**2]\n",
    "              ])\n",
    "print(str(bmatrix(X)))\n",
    "print(\"xtransposed\")\n",
    "print(str(bmatrix(np.transpose(X))))"
   ]
  },
  {
   "cell_type": "code",
   "execution_count": 90,
   "metadata": {},
   "outputs": [
    {
     "name": "stdout",
     "output_type": "stream",
     "text": [
      "\\begin{bmatrix}  0\\\\   2\\\\   1\\\\   -1\\\\   -3\\\\ \\end{bmatrix}\n"
     ]
    }
   ],
   "source": [
    "Y = np.matrix([[yvals[0]],\n",
    "               [yvals[1]],\n",
    "               [yvals[2]],\n",
    "               [yvals[3]],\n",
    "               [yvals[4]]])\n",
    "print(str(bmatrix(Y)))"
   ]
  },
  {
   "cell_type": "markdown",
   "metadata": {},
   "source": [
    "solving $A^TAY$ "
   ]
  },
  {
   "cell_type": "code",
   "execution_count": 93,
   "metadata": {},
   "outputs": [
    {
     "name": "stdout",
     "output_type": "stream",
     "text": [
      "\\begin{bmatrix}  5 & 17 & 95\\\\   17 & 95 & 539\\\\   95 & 539 & 3299\\\\ \\end{bmatrix}\n"
     ]
    }
   ],
   "source": [
    "A=np.transpose(X)*X\n",
    "print(str(bmatrix(A)))"
   ]
  },
  {
   "cell_type": "markdown",
   "metadata": {},
   "source": [
    "Calculating the b matrix by $X^T*Y$"
   ]
  },
  {
   "cell_type": "code",
   "execution_count": 110,
   "metadata": {},
   "outputs": [
    {
     "name": "stdout",
     "output_type": "stream",
     "text": [
      "[[   5   17   95]\n",
      " [  17   95  539]\n",
      " [  95  539 3299]]\n",
      "[[  -1]\n",
      " [ -18]\n",
      " [-148]]\n",
      "\\begin{bmatrix}  -1\\\\   -18\\\\   -148\\\\ \\end{bmatrix}\n",
      "[[   5   17   95   -1]\n",
      " [  17   95  539  -18]\n",
      " [  96  539 3299 -148]]\n",
      "Gausa nu [A|b]\n"
     ]
    }
   ],
   "source": [
    "b=np.transpose(X)*Y\n",
    "print(A)\n",
    "print(b)\n",
    "print(bmatrix(b))\n",
    "Ab = np.matrix([[5,17,95,-1],\n",
    "                [17, 95,539,-18],\n",
    "                [96,539,3299,-148]])\n",
    "print(str(Ab))\n",
    "print(\"Gausa nu [A|b]\")"
   ]
  },
  {
   "cell_type": "code",
   "execution_count": 109,
   "metadata": {},
   "outputs": [
    {
     "data": {
      "image/png": "[encoded data removed]",
      "text/plain": [
       "<matplotlib.figure.Figure at 0x7f2c73a600f0>"
      ]
     },
     "metadata": {},
     "output_type": "display_data"
    }
   ],
   "source": [
    "# Did not find a way to do gause in python so did it on calculator\n",
    "# The Arref down below is done by rref(A|b)\n",
    "Arref = np.matrix([[1, 0, 0, (412/413)],\n",
    "                  [0, 1, 0, (1681/2478)],\n",
    "                  [0, 0, 1, (-457/2478)]])\n",
    "#Arref.tolist()[0][3]\n",
    "la=Arref.tolist()\n",
    "ym = la[0][3] + la[1][3]*xgrap + la[2][3]*(xgrap**2)\n",
    "plt.scatter(x1a.tolist()[0],x1a.tolist()[1])\n",
    "#plt.plot(xgrap,yh)\n",
    "myplot = plt.plot(xgrap,ym)\n",
    "plt.grid()\n",
    "plt.savefig(\"part1_1_a_leastsquare.svg\")"
   ]
  },
  {
   "cell_type": "code",
   "execution_count": 111,
   "metadata": {},
   "outputs": [
    {
     "data": {
      "text/plain": [
       "(Matrix([\n",
       " [1, 0, 0,   7416/7457],\n",
       " [0, 1, 0, 31429/44742],\n",
       " [0, 0, 1, -8437/44742]]), (0, 1, 2))"
      ]
     },
     "execution_count": 111,
     "metadata": {},
     "output_type": "execute_result"
    }
   ],
   "source": [
    "sy.Matrix(Ab).rref()"
   ]
  }
 ],
 "metadata": {
  "kernelspec": {
   "display_name": "Python 3",
   "language": "python",
   "name": "python3"
  },
  "language_info": {
   "codemirror_mode": {
    "name": "ipython",
    "version": 3
   },
   "file_extension": ".py",
   "mimetype": "text/x-python",
   "name": "python",
   "nbconvert_exporter": "python",
   "pygments_lexer": "ipython3",
   "version": "3.6.3"
  }
 },
 "nbformat": 4,
 "nbformat_minor": 2
}
