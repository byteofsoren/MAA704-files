{
 "cells": [
  {
   "cell_type": "markdown",
   "metadata": {},
   "source": [
    "# Classification in medicine"
   ]
  },
  {
   "cell_type": "code",
   "execution_count": 1,
   "metadata": {
    "collapsed": true
   },
   "outputs": [],
   "source": [
    "%matplotlib inline\n",
    "# first som imports\n",
    "import numpy as np\n",
    "import matplotlib.pyplot as plt\n",
    "from sympy import *\n",
    "from matrixfunctions import *  #This is my own functions i created for 1.3 and 1.4"
   ]
  },
  {
   "cell_type": "code",
   "execution_count": 2,
   "metadata": {},
   "outputs": [
    {
     "name": "stdout",
     "output_type": "stream",
     "text": [
      "\\begin{equation}\n",
      "T_1=\n",
      "\\left[\\begin{matrix}3.4 & 4.0 & 4.2 & 5.1 & 5.4 & 6.0\\\\1.3 & 1.8 & 2.1 & 2.2 & 3.0 & 3.2\\\\0.5 & 0.7 & 0.9 & 0.8 & 1.1 & 1.2\\end{matrix}\\right]\n",
      "T_2=\n",
      "\\left[\\begin{matrix}5.2 & 4.8 & 5.2 & 3.9 & 4.1 & 3.6\\\\2.5 & 3.0 & 3.8 & 4.0 & 4.5 & 4.4\\\\0.9 & 1.2 & 1.4 & 1.5 & 1.5 & 1.7\\end{matrix}\\right]\n",
      "\\end{equation}\n"
     ]
    }
   ],
   "source": [
    "T1 = Matrix([[3.4, 4.0, 4.2, 5.1, 5.4, 6.0],\n",
    "             [1.3, 1.8, 2.1, 2.2, 3.0, 3.2],\n",
    "             [0.5, 0.7, 0.9, 0.8, 1.1, 1.2]])\n",
    "T2 = Matrix([[5.2, 4.8, 5.2, 3.9, 4.1, 3.6],\n",
    "             [2.5, 3.0, 3.8, 4.0, 4.5, 4.4],\n",
    "             [0.9, 1.2, 1.4, 1.5, 1.5, 1.7]])\n",
    "print(\"\\\\begin{equation}\\nT_1=\")\n",
    "pMatrix(T1, setlatex=1)\n",
    "print(\"T_2=\")\n",
    "pMatrix(T2, setlatex=1)\n",
    "print(\"\\\\end{equation}\")"
   ]
  },
  {
   "cell_type": "markdown",
   "metadata": {},
   "source": [
    "# covariance matrix."
   ]
  },
  {
   "cell_type": "code",
   "execution_count": 3,
   "metadata": {},
   "outputs": [
    {
     "name": "stdout",
     "output_type": "stream",
     "text": [
      "\\begin{equation}\n",
      "1=\\left[\\begin{matrix}5.2 & 4.8 & 5.2 & 3.9 & 4.1 & 3.6\\\\2.5 & 3.0 & 3.8 & 4.0 & 4.5 & 4.4\\\\0.9 & 1.2 & 1.4 & 1.5 & 1.5 & 1.7\\end{matrix}\\right] \\Rightarrow\n",
      "\\overline{x}^T=\n",
      "\\overline{x}^T_1=\n",
      "\\left[\\begin{matrix}4.467\\\\3.7\\\\1.367\\end{matrix}\\right]\n",
      "\\end{equation}\n",
      "\\begin{equation}\n",
      "\\text{norm}=\n",
      "\\left[\\begin{matrix}0.733 & -1.2 & -0.467\\\\0.333 & -0.7 & -0.167\\\\0.733 & 0.1 & 0.033\\\\-0.567 & 0.3 & 0.133\\\\-0.367 & 0.8 & 0.133\\\\-0.867 & 0.7 & 0.333\\end{matrix}\\right]\n",
      "\\end{equation}\n",
      "\\begin{equation}\n",
      "M:=\\frac{1}{D-1}*\\text{norm}^T*\\text{norm}\n",
      "\\end{equation}\n",
      "\\begin{equation}\n",
      "m=0.2\n",
      "\\left[\\begin{matrix}0.733 & 0.333 & 0.733 & -0.567 & -0.367 & -0.867\\\\-1.2 & -0.7 & 0.1 & 0.3 & 0.8 & 0.7\\\\-0.467 & -0.167 & 0.033 & 0.133 & 0.133 & 0.333\\end{matrix}\\right]\n",
      "*\n",
      "\\left[\\begin{matrix}0.733 & -1.2 & -0.467\\\\0.333 & -0.7 & -0.167\\\\0.733 & 0.1 & 0.033\\\\-0.567 & 0.3 & 0.133\\\\-0.367 & 0.8 & 0.133\\\\-0.867 & 0.7 & 0.333\\end{matrix}\\right]\n",
      "=\n",
      "\\left[\\begin{matrix}0.479 & -0.422 & -0.157\\\\-0.422 & 0.632 & 0.212\\\\-0.157 & 0.212 & 0.079\\end{matrix}\\right]\n",
      "\\end{equation}\n"
     ]
    }
   ],
   "source": [
    "s1 = covariance(T1, setlatex=0)\n",
    "s2 = covariance(T2, setlatex=1)"
   ]
  },
  {
   "cell_type": "code",
   "execution_count": 4,
   "metadata": {},
   "outputs": [
    {
     "name": "stdout",
     "output_type": "stream",
     "text": [
      "\\begin{equation}\n",
      "S_w=\n",
      "\\left[\\begin{matrix}1.432 & 0.251 & 0.072\\\\0.251 & 1.151 & 0.395\\\\0.072 & 0.395 & 0.145\\end{matrix}\\right]\n",
      "\\end{equation}\n"
     ]
    }
   ],
   "source": [
    "sw = s1 + s2\n",
    "print(\"\\\\begin{equation}\\nS_w=\")\n",
    "pMatrix(sw, setlatex=1)\n",
    "print(\"\\\\end{equation}\")"
   ]
  },
  {
   "cell_type": "code",
   "execution_count": 5,
   "metadata": {},
   "outputs": [
    {
     "name": "stdout",
     "output_type": "stream",
     "text": [
      "\\begin{equaiton}\n",
      "S_w^{-1}\n",
      "\\left[\\begin{matrix}0.737 & -0.521 & 1.05\\\\-0.521 & 13.041 & -35.156\\\\1.05 & -35.156 & 101.83\\end{matrix}\\right]\n",
      "\\end{equation}\n"
     ]
    }
   ],
   "source": [
    "print(\"\\\\begin{equaiton}\\nS_w^{-1}\")\n",
    "pMatrix(sw.inv(), setlatex=1)\n",
    "print(\"\\\\end{equation}\")"
   ]
  },
  {
   "cell_type": "code",
   "execution_count": 6,
   "metadata": {},
   "outputs": [
    {
     "name": "stdout",
     "output_type": "stream",
     "text": [
      "\\begin{equation}\n",
      "T1_mean=\n",
      "\\left[\\begin{matrix}4.683\\\\2.267\\\\0.867\\end{matrix}\\right]\n",
      "\\end{equaiton}\n",
      "\\begin{equation}\n",
      "T2_mean=\n",
      "\\left[\\begin{matrix}4.467\\\\3.7\\\\1.367\\end{matrix}\\right]\n",
      "\\end{equaiton}\n",
      "\\begin{equation}\n",
      "w^{*}=\n",
      "\\left[\\begin{matrix}-0.382\\\\1.227\\\\0.297\\end{matrix}\\right]\n",
      "\\end{equation}\n"
     ]
    }
   ],
   "source": [
    "# get mean again.\n",
    "T1mean = get_rowMean(T1, setlatex=\"T1_mean\")\n",
    "T2mean = get_rowMean(T2, setlatex=\"T2_mean\")\n",
    "\n",
    "#wstar = sw.inv()*(T1mean-T2mean)\n",
    "wstar = sw.inv()*(T2mean-T1mean)\n",
    "print(\"\\\\begin{equation}\")\n",
    "pMatrix(wstar, setlatex=\"w^{*}\")\n",
    "print(\"\\\\end{equation}\")"
   ]
  },
  {
   "cell_type": "markdown",
   "metadata": {},
   "source": [
    "# Thershold value"
   ]
  },
  {
   "cell_type": "markdown",
   "metadata": {},
   "source": [
    "Choose a threshold, all observations which gives a\n",
    "y > T we classify into class 1 and all else into class 2.\n",
    "If the two classes have approximately the same distribution\n",
    "on the projected line the mean of the projected means are\n",
    "often a good choice\n",
    "$$\n",
    "    T = \\frac{1}{2}*(\\tilde{x}_{T1} + \\tilde{x}_{T2})\n",
    "$$"
   ]
  },
  {
   "cell_type": "code",
   "execution_count": 7,
   "metadata": {},
   "outputs": [
    {
     "name": "stdout",
     "output_type": "stream",
     "text": [
      "\\begin{equation}\n",
      " T = \\frac{1}{2}*(\\tilde{x}_{T1} + \\tilde{x}_{T2}) = \n",
      "\\frac{1}{2}*(2.606 + 3.178)\n",
      "\\approx 2.89\n",
      "\\end{equation}\n"
     ]
    }
   ],
   "source": [
    "# Mean of mean\n",
    "T1mom = 0\n",
    "T2mom = 0\n",
    "\n",
    "for i in np.arange(len(T1mean.tolist())):\n",
    "    T1mom += T1mean.tolist()[i][0]\n",
    "    \n",
    "for i in np.arange(0, len(T2mean.tolist())):\n",
    "    T2mom += T2mean.tolist()[i][0]\n",
    "\n",
    "T1mom = T1mom / len(T1mean.tolist())\n",
    "T2mom = T2mom / len(T1mean.tolist())\n",
    "print(\"\\\\begin{equation}\\n T = \\\\frac{1}{2}*(\\\\tilde{x}_{T1} + \\\\tilde{x}_{T2}) = \")\n",
    "print(\"\\\\frac{1}{2}*(\" + \"{0:.3f}\".format(T1mom) + \" + {0:.3f})\".format(T2mom))\n",
    "print(\"\\\\approx {0:.3}\".format(1/2 * (T1mom + T2mom)) )\n",
    "print(\"\\\\end{equation}\")"
   ]
  },
  {
   "cell_type": "markdown",
   "metadata": {},
   "source": [
    "# New patients"
   ]
  },
  {
   "cell_type": "markdown",
   "metadata": {},
   "source": [
    "Two new patients habean tested and this is the results."
   ]
  },
  {
   "cell_type": "code",
   "execution_count": 8,
   "metadata": {},
   "outputs": [
    {
     "name": "stdout",
     "output_type": "stream",
     "text": [
      "T3=\n",
      "\\left[\\begin{matrix}4.5 & 5.0\\\\4.0 & 3.0\\\\1.5 & 1.1\\end{matrix}\\right]\n"
     ]
    }
   ],
   "source": [
    "T3 = Matrix([[4.5, 5  ],\n",
    "             [4  , 3  ],\n",
    "             [1.5, 1.1]])\n",
    "pMatrix(T3, setlatex=\"T3\")"
   ]
  },
  {
   "cell_type": "code",
   "execution_count": 9,
   "metadata": {},
   "outputs": [
    {
     "name": "stdout",
     "output_type": "stream",
     "text": [
      "[[-0.382]\n",
      " [ 1.227]\n",
      " [ 0.297]]\n",
      "patients=\n",
      "\\left[\\begin{matrix}4.5 & 5.0\\\\4.0 & 3.0\\\\1.5 & 1.1\\end{matrix}\\right]\n"
     ]
    }
   ],
   "source": [
    "pMatrix(wstar)\n",
    "pMatrix(T3, setlatex=\"patients\")"
   ]
  },
  {
   "cell_type": "code",
   "execution_count": 10,
   "metadata": {},
   "outputs": [
    {
     "name": "stdout",
     "output_type": "stream",
     "text": [
      "-3.6345\n",
      "-2.10067\n"
     ]
    }
   ],
   "source": [
    "temp1 = 0.382*4.5 + (-1.227)*4 + (-0.297)*1.5\n",
    "temp2 = 0.382*5 + (-1.227)*3 + (-0.2997)*1.1\n",
    "print(temp1)\n",
    "print(temp2)"
   ]
  },
  {
   "cell_type": "code",
   "execution_count": 11,
   "metadata": {},
   "outputs": [
    {
     "name": "stdout",
     "output_type": "stream",
     "text": [
      "\\begin{equation}\n",
      "P_1=\n",
      "\\left[\\begin{matrix}4.5\\\\4.0\\\\1.5\\end{matrix}\\right]\n",
      "P_2=\n",
      "\\left[\\begin{matrix}5.0\\\\3.0\\\\1.1\\end{matrix}\\right]\n",
      "\\end{equation}\n"
     ]
    }
   ],
   "source": [
    "print(\"\\\\begin{equation}\")\n",
    "pMatrix(T3.col(0), setlatex=\"P_1\")\n",
    "pMatrix(T3.col(1), setlatex=\"P_2\")\n",
    "print(\"\\\\end{equation}\")"
   ]
  },
  {
   "cell_type": "code",
   "execution_count": 12,
   "metadata": {},
   "outputs": [
    {
     "name": "stdout",
     "output_type": "stream",
     "text": [
      "R_1=\n",
      "\\left[\\begin{matrix}3.637\\end{matrix}\\right]\n",
      "R_2=\n",
      "\\left[\\begin{matrix}2.1\\end{matrix}\\right]\n"
     ]
    }
   ],
   "source": [
    "pMatrix(transpose(T3.col(0))*wstar,setlatex=\"R_1\")\n",
    "pMatrix(transpose(T3.col(1))*wstar, setlatex=\"R_2\")"
   ]
  },
  {
   "cell_type": "code",
   "execution_count": 13,
   "metadata": {},
   "outputs": [
    {
     "name": "stdout",
     "output_type": "stream",
     "text": [
      "\\left[\\begin{matrix}4.5 & 4.0 & 1.5\\end{matrix}\\right]\n",
      "\\left[\\begin{matrix}5.0 & 3.0 & 1.1\\end{matrix}\\right]\n",
      "\\left[\\begin{matrix}-0.382\\\\1.227\\\\0.297\\end{matrix}\\right]\n"
     ]
    }
   ],
   "source": [
    "pMatrix(transpose(T3.col(0)), setlatex=1)\n",
    "pMatrix(transpose(T3.col(1)), setlatex=1)\n",
    "pMatrix(wstar, setlatex=1)"
   ]
  },
  {
   "cell_type": "markdown",
   "metadata": {},
   "source": [
    "# Confusion matrix"
   ]
  },
  {
   "cell_type": "markdown",
   "metadata": {},
   "source": [
    "In this case many we are going to do the exact same algorithm abowe on the original data but we store it in an matrix with 4 cells.\n"
   ]
  },
  {
   "cell_type": "code",
   "execution_count": 46,
   "metadata": {},
   "outputs": [],
   "source": [
    "def getCl(a, threshold=0, setlatex=0):\n",
    "    m = [] # The return matrix\n",
    "    rows = len(a.tolist())\n",
    "    cols = len(a.tolist()[0])\n",
    "    ho = 0\n",
    "    lo = 0 \n",
    "    on = 0\n",
    "    for i in np.arange(0, cols):\n",
    "        t = transpose(a.col(i))*wstar\n",
    "        #print(\"{0:.4}\".format(t[0]))\n",
    "        m.append([t[0]])\n",
    "        if t[0] > threshold:\n",
    "            ho+=1 \n",
    "        elif t[0] < threshold:\n",
    "            lo+=1 \n",
    "        else:\n",
    "            on+=1 \n",
    "    #print(\"ho=\" + str(ho) + \" lo=\" + str(lo) + \" on=\" + str(on))\n",
    "    return [Matrix(m), [ho,lo,on]]\n",
    "    \n",
    "cmat1 = getCl(T1, threshold=2.7)\n",
    "cmat2 = getCl(T2, threshold=2.7)\n",
    "            "
   ]
  },
  {
   "cell_type": "code",
   "execution_count": 47,
   "metadata": {},
   "outputs": [
    {
     "name": "stdout",
     "output_type": "stream",
     "text": [
      "conf_1=\n",
      "\\left[\\begin{matrix}0.447\\\\0.891\\\\1.242\\\\0.992\\\\1.948\\\\1.994\\end{matrix}\\right]\n",
      "conf_2=\n",
      "\\left[\\begin{matrix}1.351\\\\2.206\\\\3.095\\\\3.866\\\\4.403\\\\4.531\\end{matrix}\\right]\n"
     ]
    }
   ],
   "source": [
    "pMatrix(cmat1[0], setlatex=\"conf_1\")\n",
    "pMatrix(cmat2[0], setlatex=\"conf_2\")"
   ]
  },
  {
   "cell_type": "code",
   "execution_count": 48,
   "metadata": {},
   "outputs": [
    {
     "name": "stdout",
     "output_type": "stream",
     "text": [
      "[0, 6, 0]\n",
      "[4, 2, 0]\n"
     ]
    }
   ],
   "source": [
    "print(cmat1[1])\n",
    "print(cmat2[1])"
   ]
  },
  {
   "cell_type": "code",
   "execution_count": null,
   "metadata": {},
   "outputs": [],
   "source": [
    "T1conf = []\n",
    "T1cols = len(T1.tolist()[0])\n",
    "T1rows = len(T1.tolist())\n",
    "for i in np.arange(0, T1cols):\n",
    "    t = transpose(T1.col(i))*wstar\n",
    "    print(t[0])"
   ]
  }
 ],
 "metadata": {
  "kernelspec": {
   "display_name": "Python 3",
   "language": "python",
   "name": "python3"
  },
  "language_info": {
   "codemirror_mode": {
    "name": "ipython",
    "version": 3
   },
   "file_extension": ".py",
   "mimetype": "text/x-python",
   "name": "python",
   "nbconvert_exporter": "python",
   "pygments_lexer": "ipython3",
   "version": "3.6.3"
  }
 },
 "nbformat": 4,
 "nbformat_minor": 2
}
